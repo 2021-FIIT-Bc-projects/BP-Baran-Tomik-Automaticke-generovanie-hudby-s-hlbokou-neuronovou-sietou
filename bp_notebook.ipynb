{
 "cells": [
  {
   "cell_type": "code",
   "execution_count": 1,
   "id": "c42ff2c2",
   "metadata": {},
   "outputs": [],
   "source": [
    "from music21 import converter, instrument, note, chord, instrument, note, chord, stream\n",
    "from keras.layers import Dense, Dropout, LSTM, Activation\n",
    "from keras.callbacks import ModelCheckpoint\n",
    "from keras.models import Sequential\n",
    "from keras.utils import np_utils\n",
    "from collections import Counter\n",
    "from fractions import Fraction\n",
    "import matplotlib.pyplot as plt\n",
    "import tensorflow as tf\n",
    "import numpy as np\n",
    "import pathlib\n",
    "import sklearn\n",
    "import json\n",
    "import time\n",
    "import os\n",
    "import gc"
   ]
  },
  {
   "cell_type": "markdown",
   "id": "c1147f32",
   "metadata": {},
   "source": [
    "parse_MIDI.py"
   ]
  },
  {
   "cell_type": "code",
   "execution_count": 2,
   "id": "4654cdf8",
   "metadata": {},
   "outputs": [],
   "source": [
    "def load_midi_file(file_name):\n",
    "\n",
    "    midi_sample = None\n",
    "    try:\n",
    "        midi_sample = converter.parse(file_name)\n",
    "    except OSError as e:\n",
    "        print('\\nERROR loading MIDI file in load_midi_file()')\n",
    "        print(e)\n",
    "        quit()\n",
    "    return midi_sample\n",
    "\n",
    "\n",
    "def parse_midi_file(folder_path):\n",
    "\n",
    "    notes_piano = []\n",
    "    metadata_piano = {\n",
    "        \"note_count\": 0,\n",
    "        \"chord_count\": 0,\n",
    "        \"rest\": 0,\n",
    "        \"else_count\": 0\n",
    "    }\n",
    "\n",
    "    all_names = []\n",
    "    print('Parsing PIANO...')\n",
    "\n",
    "    for oneFile in os.listdir(folder_path):\n",
    "        if oneFile.endswith(\".mid\"):\n",
    "            all_names.append(oneFile)\n",
    "            midi_file = folder_path+oneFile\n",
    "            midi_sample = load_midi_file(midi_file)\n",
    "            instruments = instrument.partitionByInstrument(midi_sample)\n",
    "\n",
    "            for part in instruments.parts:\n",
    "\n",
    "                if 'Piano' in str(part):\n",
    "                    # print('parsing PIANO', part)\n",
    "\n",
    "                    notes_to_parse = part.recurse()\n",
    "                    last_offset = 0\n",
    "\n",
    "                    # note  -> n_pitch_quarterLength_deltaOffset\n",
    "                    # chord -> c_pitch_quarterLength_deltaOffset\n",
    "                    # rest  -> r_quarterLength_deltaOffset\n",
    "\n",
    "                    for element in notes_to_parse:\n",
    "                        if isinstance(element, note.Note):\n",
    "                            delta_offset = Fraction(element.offset) - last_offset\n",
    "                            last_offset = Fraction(element.offset)\n",
    "\n",
    "                            notes_piano.append('n_'+str(element.pitch)+'_'+str(element.duration.quarterLength)+'_'+str(delta_offset))\n",
    "                            metadata_piano[\"note_count\"] += 1\n",
    "\n",
    "                        elif isinstance(element, chord.Chord):\n",
    "                            delta_offset = Fraction(element.offset) - last_offset\n",
    "                            last_offset = Fraction(element.offset)\n",
    "\n",
    "                            chord_ = '.'.join(str(n) for n in element.pitches)\n",
    "                            notes_piano.append('c_' + chord_ + '_' + str(element.duration.quarterLength)+'_'+str(delta_offset))\n",
    "                            metadata_piano[\"chord_count\"] += 1\n",
    "\n",
    "                        elif isinstance(element, note.Rest):\n",
    "                            delta_offset = Fraction(element.offset) - last_offset\n",
    "                            last_offset = Fraction(element.offset)\n",
    "\n",
    "                            notes_piano.append('r_' + str(element.duration.quarterLength)+'_'+str(delta_offset))\n",
    "                            metadata_piano[\"rest\"] += 1\n",
    "                        else:\n",
    "                            metadata_piano[\"else_count\"] += 1\n",
    "    print('Parsing PIANO finished')\n",
    "    print('Parsed MIDI dataset:\\n', all_names)\n",
    "    print('Parsed MIDI dataset length:', len(all_names))\n",
    "    return notes_piano, metadata_piano\n",
    "\n",
    "\n",
    "def average_f(lst):\n",
    "    return sum(lst) / len(lst)\n",
    "\n",
    "\n",
    "def remove_values_from_list(the_list, val):\n",
    "   return [value for value in the_list if value != val]\n",
    "\n",
    "\n",
    "def cut_notes(uncut_notes, metadata, cuts):\n",
    "    notes = uncut_notes\n",
    "    stop_flag = False\n",
    "\n",
    "    for i in range(cuts):\n",
    "        notes_count = Counter(notes)\n",
    "        Recurrence = list(notes_count.values())\n",
    "\n",
    "        pitchnames = set(notes)\n",
    "        note_to_int_before = dict((note_var, number) for number, note_var in enumerate(pitchnames))\n",
    "        avg_r = round(average_f(Recurrence), 2)\n",
    "\n",
    "        print('\\nnumber of notes before:', len(notes))\n",
    "        print('number of unique notes before:', len(note_to_int_before))\n",
    "        print(\"average recurrence for a note in notes:\", avg_r)\n",
    "        print(\"most frequent note in notes appeared:\", max(Recurrence), \"times\")\n",
    "        print(\"least frequent note in notes appeared:\", min(Recurrence), \"time/s\")\n",
    "\n",
    "        # if average recurrence is more then a 100, @param avg_r is set to 100 and this will be final eliminating\n",
    "        if round(avg_r) >= 100:\n",
    "            avg_r = 100\n",
    "            stop_flag = True\n",
    "\n",
    "        # getting a list of elements that appear less then avarage element does\n",
    "        less_avg_note = []\n",
    "        cn_items = notes_count.items()\n",
    "        for index, (key, value) in enumerate(cn_items):\n",
    "            if value < round(avg_r):\n",
    "                m = key\n",
    "                less_avg_note.append(m)\n",
    "        print(f'number of notes occuring less than {round(avg_r)} times:', len(less_avg_note))\n",
    "\n",
    "        # eleminating those elements and adjusting metadata accordingly\n",
    "        for element in notes:\n",
    "            if element in less_avg_note:\n",
    "                len_before = len(notes)\n",
    "                notes = remove_values_from_list(notes, element)\n",
    "                elements_removed = len_before - len(notes)\n",
    "                if element[:1] == 'n':\n",
    "                    metadata['note_count'] -= elements_removed\n",
    "                elif element[:1] == 'c':\n",
    "                    metadata['chord_count'] -= elements_removed\n",
    "                elif element[:1] == 'r':\n",
    "                    metadata['rest'] -= elements_removed\n",
    "\n",
    "        print(\"length of notes after the elemination :\", len(notes))\n",
    "        if stop_flag:\n",
    "            break\n",
    "\n",
    "    notes_count = Counter(notes)\n",
    "    Recurrence = list(notes_count.values())\n",
    "\n",
    "    avg_r = round(average_f(Recurrence), 2)\n",
    "\n",
    "    print(\"\\naverage recurrence for a note in notes:\", avg_r)\n",
    "    print(\"most frequent note in notes appeared:\", max(Recurrence), \"times\")\n",
    "    print(\"least frequent note in notes appeared:\", min(Recurrence), \"time/s\")\n",
    "\n",
    "    del notes_count, Recurrence, pitchnames, note_to_int_before, less_avg_note\n",
    "    gc.collect()\n",
    "\n",
    "    return notes, metadata\n",
    "\n",
    "\n",
    "def mapping(uncut_notes, metadata, sequence_len, cuts):\n",
    "\n",
    "    if cuts > 0:\n",
    "        notes, new_metadata = cut_notes(uncut_notes, metadata, cuts)\n",
    "    else:\n",
    "        notes, new_metadata = uncut_notes, metadata\n",
    "\n",
    "    sequence_length = sequence_len\n",
    "    pitchnames = set(notes)\n",
    "    note_to_int = dict((note_var, number) for number, note_var in enumerate(pitchnames))\n",
    "\n",
    "    nn_input = []\n",
    "    nn_output = []\n",
    "\n",
    "    for i in range(0, len(notes) - sequence_length):\n",
    "        sequence_in = notes[i:i + sequence_length]\n",
    "        sequence_out = notes[i + sequence_length]\n",
    "\n",
    "        nn_input.append([note_to_int[one_note] for one_note in sequence_in])\n",
    "        nn_output.append(note_to_int[sequence_out])\n",
    "\n",
    "    input_count = len(nn_input)\n",
    "    mapped_n_count = float(len(note_to_int))\n",
    "\n",
    "    # reshape the input so it's compatible with LSTM layers\n",
    "    nn_input = np.reshape(nn_input, (input_count, sequence_length, 1))\n",
    "\n",
    "    # normalize input values\n",
    "    nn_input = nn_input / mapped_n_count\n",
    "\n",
    "    # set output values so it's compatible with LSTM layers\n",
    "    nn_output = np_utils.to_categorical(nn_output)\n",
    "\n",
    "    # print metadata about notes after removing\n",
    "    info_print_out(new_metadata, len(note_to_int))\n",
    "\n",
    "    return nn_input, nn_output, note_to_int, pitchnames\n",
    "\n",
    "\n",
    "def info_print_out(metadata, unique_elements_count):\n",
    "    all_count = metadata['note_count'] + metadata['chord_count'] + metadata['rest']\n",
    "    print('\\n')\n",
    "    print('_________________________________________________')\n",
    "    print('\\n')\n",
    "    print('number of all elements:      ', all_count)\n",
    "    print('notes:    ', metadata['note_count'])\n",
    "    print('chords:   ', metadata['chord_count'])\n",
    "    print('rests:    ', metadata['rest'])\n",
    "    print('number of unique elements:   ', unique_elements_count)\n",
    "    print('\\n')\n",
    "    print('_________________________________________________')\n",
    "    print('\\n')\n",
    "\n",
    "\n",
    "def parse_MIDI_init(folder_path, sequence_length, cuts):\n",
    "    notes_and_chords, metadata_p = parse_midi_file(folder_path)                                                         # parse MIDI file\n",
    "    lstm_input, lstm_output, notes_to_int, pitch_names = mapping(notes_and_chords, metadata_p, sequence_length, cuts)   # mapping MIDI file parts\n",
    "\n",
    "    # lstm_input_shuffled, lstm_output_shuffled = sklearn.utils.shuffle(lstm_input, lstm_output)                        # shuffling input and output simultaneously\n",
    "    pitch_names_len = len(pitch_names)\n",
    "\n",
    "    # del lstm_input\n",
    "    # del lstm_output\n",
    "    del notes_and_chords\n",
    "    del metadata_p\n",
    "    del pitch_names\n",
    "    gc.collect()\n",
    "\n",
    "    return lstm_input, lstm_output, notes_to_int, pitch_names_len\n"
   ]
  },
  {
   "cell_type": "markdown",
   "id": "09b5a80d",
   "metadata": {},
   "source": [
    "train_model.py"
   ]
  },
  {
   "cell_type": "code",
   "execution_count": 3,
   "id": "28970a0b",
   "metadata": {},
   "outputs": [],
   "source": [
    "def create_lstm_model(nn_input, n_pitch):\n",
    "    lstm_model = Sequential()\n",
    "    lstm_model.add(LSTM(\n",
    "        256,\n",
    "        input_shape=(nn_input.shape[1], nn_input.shape[2]),\n",
    "        return_sequences=True,\n",
    "    ))\n",
    "    lstm_model.add(Dropout(0.6))\n",
    "    lstm_model.add(LSTM(256, return_sequences=True))\n",
    "    lstm_model.add(Dropout(0.6))\n",
    "    lstm_model.add(LSTM(256))\n",
    "    lstm_model.add(Dropout(0.6))\n",
    "\n",
    "    lstm_model.add(Dense(256))\n",
    "    lstm_model.add(Dropout(0.6))\n",
    "\n",
    "    lstm_model.add(Dense(n_pitch))\n",
    "    lstm_model.add(Activation('sigmoid'))\n",
    "    lstm_model.compile(optimizer='Adam', loss='categorical_crossentropy')\n",
    "\n",
    "    return lstm_model\n",
    "\n",
    "\n",
    "def load_weight_to_model(empt_model, weight):\n",
    "    filepath = f'weights\\\\toLoadWeights\\\\{weight}.hdf5'\n",
    "    try:\n",
    "        empt_model.load_weights(filepath)\n",
    "    except OSError as e:\n",
    "        print('\\nERROR loading weights file in load_weight_to_model()')\n",
    "        print(e)\n",
    "        quit()\n",
    "    return empt_model\n",
    "\n",
    "\n",
    "def train_lstm(nn, nn_input, nn_output, epochs, batch_size):\n",
    "\n",
    "    filepath = \"weights\\\\weights-improvement-{epoch:02d}-{loss:.4f}-bigger.hdf5\"\n",
    "    checkpoint = ModelCheckpoint(\n",
    "        filepath, monitor='loss',\n",
    "        verbose=1,\n",
    "        save_best_only=True,\n",
    "        mode='min'\n",
    "    )\n",
    "    callbacks_list = [checkpoint]\n",
    "\n",
    "    # print('X[0]: ', nn_input[0])\n",
    "    # print('argmax y[0]: ', np.argmax(nn_output[0]))\n",
    "    # print('argmax y[0] / 18: ', np.argmax(nn_output[0]) / float(18))  # 18 je cislo mapped_notes\n",
    "\n",
    "    data = nn.fit(nn_input, nn_output, epochs=epochs, batch_size=batch_size, callbacks=callbacks_list)\n",
    "\n",
    "    # draw a graph of loss during training\n",
    "    fig = plt.figure()\n",
    "    ax = plt.subplot(111)\n",
    "    plt.plot(data.history['loss'], label=f'Loss hodnota', lw=2)\n",
    "    plt.title('Trénovanie celého datasetu')\n",
    "    box = ax.get_position()\n",
    "    ax.set_position([box.x0, box.y0 + box.height * 0.1,\n",
    "                     box.width, box.height * 0.9])\n",
    "    ax.legend(loc='upper center', bbox_to_anchor=(0.5, -0.135),\n",
    "              fancybox=True, shadow=True, ncol=5)\n",
    "    plt.xlabel('Epoch')\n",
    "    plt.ylabel('Loss')\n",
    "    plt.draw()\n",
    "    plt.show()\n",
    "    fig.savefig('tests\\\\cely-dataset-bs64_.pdf')\n",
    "    plt.clf()\n",
    "    \n",
    "    return nn\n",
    "\n",
    "\n",
    "def train_model_init(lstm_input, lstm_output, pitch_names_len, epochs, batch_size, model_training):\n",
    "\n",
    "    empty_model = create_lstm_model(lstm_input, pitch_names_len)                        # load layers of NN to model\n",
    "\n",
    "    if model_training[\"bool\"]:\n",
    "        model = train_lstm(empty_model, lstm_input, lstm_output, epochs, batch_size)    # train NN\n",
    "    else:\n",
    "        model = load_weight_to_model(empty_model, model_training[\"weight\"])             # load weights to model\n",
    "\n",
    "    return model\n"
   ]
  },
  {
   "cell_type": "markdown",
   "id": "b5e8b9ab",
   "metadata": {},
   "source": [
    "generate_music.py"
   ]
  },
  {
   "cell_type": "code",
   "execution_count": 4,
   "id": "a6a322b7",
   "metadata": {},
   "outputs": [],
   "source": [
    "# source of this function : https://stackoverflow.com/questions/1806278/convert-fraction-to-float\n",
    "def convert_to_float(frac_str):\n",
    "    try:\n",
    "        return float(frac_str)\n",
    "    except ValueError:\n",
    "        num, denom = frac_str.split('/')\n",
    "        try:\n",
    "            leading, num = num.split(' ')\n",
    "            whole = float(leading)\n",
    "        except ValueError:\n",
    "            whole = 0\n",
    "        frac = float(num) / float(denom)\n",
    "        return whole - frac if whole < 0 else whole + frac\n",
    "\n",
    "\n",
    "def create_midi_file(output, mapping_keys, index, new_file_name):\n",
    "\n",
    "    unmapped_from_int = []\n",
    "    converted = []\n",
    "    notes = []\n",
    "    offset = 0\n",
    "\n",
    "    metadata = {\n",
    "        \"note\": 0,\n",
    "        \"chord\": 0,\n",
    "        \"rest\": 0\n",
    "    }\n",
    "\n",
    "    # # unmapping notes, chores and rests from output integers\n",
    "    for element in output:\n",
    "        for key in mapping_keys:\n",
    "            if int(mapping_keys.get(key)) == element:\n",
    "                unmapped_from_int.append(key)\n",
    "                break\n",
    "\n",
    "    # creating note, chores and rest objects\n",
    "    for element in unmapped_from_int:\n",
    "        if 'n_' in element:                         # note\n",
    "            element = element[2:]                                                       # cut the 'n_' mark\n",
    "            offset += Fraction(element.split('_')[2])\n",
    "            note_ = note.Note(element.split('_')[0])                                    # creating note\n",
    "            note_.duration.quarterLength = convert_to_float(element.split('_')[1])      # adding duration quarterLength\n",
    "            note_.offset = offset                                                       # adding offset\n",
    "            note_.storedInstrument = instrument.Piano()\n",
    "            converted.append(note_)                                                     # appending final array\n",
    "            metadata['note'] = metadata['note'] + 1\n",
    "\n",
    "        elif 'c_' in element:                       # chord\n",
    "            element = element[2:]                                                       # cut the 'c_' mark\n",
    "            offset += Fraction(element.split('_')[2])\n",
    "            notes_in_chord = element.split('_')[0].split('.')                           # gettig notes as string from element\n",
    "\n",
    "            notes.clear()\n",
    "            for current_note in notes_in_chord:\n",
    "                new_note = note.Note(current_note)\n",
    "                new_note.storedInstrument = instrument.Piano()\n",
    "                notes.append(new_note)\n",
    "\n",
    "            chord_ = chord.Chord(notes)                                                 # creating chord form notes\n",
    "            chord_.duration.quarterLength = convert_to_float(element.split('_')[1])     # adding duration quarterLength\n",
    "            chord_.offset = offset                                                      # adding offset\n",
    "            converted.append(chord_)                                                    # appending final array\n",
    "            metadata['chord'] = metadata['chord'] + 1\n",
    "\n",
    "        elif 'r_' in element:                       # rest\n",
    "            element = element[2:]                                                       # cut the 'r_' mark\n",
    "            offset += Fraction(element.split('_')[1])\n",
    "            rest_ = note.Rest()                                                         # creating rest\n",
    "            rest_.duration.quarterLength = convert_to_float(element.split('_')[0])      # adding duration quarterLength\n",
    "            rest_.offset = offset                                                       # adding offset\n",
    "            rest_.storedInstrument = instrument.Piano()\n",
    "            converted.append(rest_)                                                     # appending final array\n",
    "            metadata['rest'] = metadata['rest'] + 1\n",
    "\n",
    "    print(f'\\nElements of newly generated music with index={index}: ', metadata)\n",
    "\n",
    "    try:\n",
    "        midi_stream = stream.Stream(converted)\n",
    "        midi_stream.write('midi', fp='midi_samples\\\\outputs\\\\' + f'{new_file_name}' + str(index) + '.mid') \n",
    "        print('Created new MIDI file')\n",
    "        midi_stream.show('midi')\n",
    "    except OSError as e:\n",
    "        print('\\nERROR creating MIDI file in create_midi_file()')\n",
    "        print(e)\n",
    "\n",
    "\n",
    "def generate_music(nn_model, nn_input, mapped_notes, length):\n",
    "\n",
    "    generated_music = []\n",
    "    sequence_len = len(nn_input[0])\n",
    "    mapped_notes_count = len(mapped_notes)\n",
    "    init_input = np.random.randint(0, len(nn_input) - 1)\n",
    "    pattern = nn_input[init_input]\n",
    "\n",
    "    note_input = np.array(pattern).reshape((1, sequence_len, 1))\n",
    "    note_input = note_input / float(mapped_notes_count)             # works without it, but generated music is significantly better\n",
    "\n",
    "    for i in range(length):\n",
    "        note_output = nn_model.predict(note_input, verbose=0)\n",
    "        note_output_max = np.argmax(note_output)\n",
    "        generated_music.append(note_output_max)\n",
    "\n",
    "        pattern = np.append(pattern, note_output_max / float(mapped_notes_count))\n",
    "        pattern = pattern[1:sequence_len + 1]\n",
    "\n",
    "        note_input = np.array(pattern).reshape((1, sequence_len, 1))\n",
    "\n",
    "    return generated_music\n",
    "\n",
    "\n",
    "def generate_music_init(model, lstm_input, notes_to_int, length, index, new_file_name):\n",
    "    new_music = generate_music(model, lstm_input, notes_to_int, length)     # predict new music\n",
    "    create_midi_file(new_music, notes_to_int, index, new_file_name)         # save new music to MIDI file\n"
   ]
  },
  {
   "cell_type": "markdown",
   "id": "7f23a802",
   "metadata": {},
   "source": [
    "main.py"
   ]
  },
  {
   "cell_type": "code",
   "execution_count": 5,
   "id": "f5c10286",
   "metadata": {},
   "outputs": [
    {
     "name": "stdout",
     "output_type": "stream",
     "text": [
      "Num GPUs Available:  1\n",
      "Parsing PIANO...\n",
      "Parsing PIANO finished\n",
      "Parsed MIDI dataset:\n",
      " ['mz_311_1.mid', 'mz_311_2.mid', 'mz_311_3.mid', 'mz_330_1.mid', 'mz_330_2.mid', 'mz_330_3.mid', 'mz_331_1.mid', 'mz_331_2.mid', 'mz_331_3.mid', 'mz_332_1.mid', 'mz_332_2.mid', 'mz_332_3.mid', 'mz_333_1.mid', 'mz_333_2.mid', 'mz_333_3.mid', 'mz_545_1.mid', 'mz_545_2.mid', 'mz_545_3.mid', 'mz_570_1.mid', 'mz_570_2.mid', 'mz_570_3.mid']\n",
      "Parsed MIDI dataset length: 21\n",
      "\n",
      "number of notes before: 76032\n",
      "number of unique notes before: 4583\n",
      "average recurrence for a note in notes: 16.59\n",
      "most frequent note in notes appeared: 4286 times\n",
      "least frequent note in notes appeared: 1 time/s\n",
      "number of notes occuring less than 17 times: 4133\n",
      "length of notes after the elemination : 62775\n",
      "\n",
      "number of notes before: 62775\n",
      "number of unique notes before: 450\n",
      "average recurrence for a note in notes: 139.5\n",
      "most frequent note in notes appeared: 4286 times\n",
      "least frequent note in notes appeared: 17 time/s\n",
      "number of notes occuring less than 100 times: 332\n",
      "length of notes after the elemination : 50306\n",
      "\n",
      "average recurrence for a note in notes: 426.32\n",
      "most frequent note in notes appeared: 4286 times\n",
      "least frequent note in notes appeared: 100 time/s\n",
      "\n",
      "\n",
      "_________________________________________________\n",
      "\n",
      "\n",
      "number of all elements:       50306\n",
      "notes:     32032\n",
      "chords:    0\n",
      "rests:     18274\n",
      "number of unique elements:    118\n",
      "\n",
      "\n",
      "_________________________________________________\n",
      "\n",
      "\n",
      "\n",
      "Elements of newly generated music with index=0:  {'note': 129, 'chord': 0, 'rest': 21}\n",
      "Created new MIDI file\n"
     ]
    },
    {
     "data": {
      "text/html": [
       "\n",
       "                <div id='midiPlayerDiv392823'></div>\n",
       "                <link rel=\"stylesheet\" href=\"//cuthbertLab.github.io/music21j/css/m21.css\"\n",
       "                    type=\"text/css\" />\n",
       "                <script>\n",
       "                require.config({\n",
       "                    paths: {'music21': '//cuthbertLab.github.io/music21j/src/music21'}\n",
       "                });\n",
       "                require(['music21'], function() {\n",
       "                               mp = new music21.miditools.MidiPlayer();\n",
       "                               mp.addPlayer('#midiPlayerDiv392823');\n",
       "                               mp.base64Load('data:audio/midi;base64,TVRoZAAAAAYAAQACBABNVHJrAAAAFAD/UQMHoSAA/1gEBAIYCIgA/y8ATVRyawAABFIA/wMAAOAAQIoAkExaggCATAAAkEFaAJA/WoIAgEEAAIA/AACQQVqCAIBBAACQTloAkD9aAJA/WoIAgE4AAIA/AACAPwCCAJBNWgCQP1qCAIA/AIIAgE0AAJBFWoIAkEtaggCARQAAgEsAngCQM1qCAIAzAIIAkENaggCQP1oAkDNaAJBAWgCQM1oAkDNaAJAzWoIAgEMAAIA/AACAMwAAgDMAAIAzAACAMwCCAIBAAACQSFqEAIBIAACQTFqEAIBMAACQRloAkD9aAJA1WoIAgD8AggCARgAAgDUAAJA/WoIAgD8AigCQPlqEAIA+AIQAkD5aggCQP1qCAIA/AACQP1oAkD5aAJA+WgCQPloAkD5aggCAPwCCAIA+AACQQFoAkD5aAJA+WgCQPlqEAIA+AACAPgAAgD4AAIA+AACAQACEAIA+AACAPgAAgD4AjACQPlqEAIA+AACQPloAkD5aggCQTFoAkDlaAJA3WgCQP1oAkD5aAJA/WgCQP1oAkD9aAJA/WgCQP1oAkD9aAJA/WgCQP1oAkD9aAJA/WgCQP1oAkD9aAJA/WoIAgD4AAIBMAACAOQAAgD8AAIA/AACAPwAAgD8AAIA/AACAPwAAgD8AAIA/AACAPwAAgD8AAIA/AACAPwAAgD8AAIA/AIIAgDcAAJA+WgCQPlqCAIA+AIIAgD4AAJA+WoQAgD4AAIA+AACQPlqEAIA+AIQAgD4AigCQP1oAkC1aAJA/WgCQP1oAkD9aAJA/WoIAgD8AAIAtAACAPwAAgD8AAIA/AACAPwCCAJA6WoQAgDoAAJA6WoIAkEFaggCAOgAAgEEAAJBBWoIAgEEAAJBMWoIAgEwAggCQOlqEAIA6AACQOlqCAJBBWgCQP1oAkDVaAJA/WgCQP1qCAIA6AACAQQAAgD8AAIA/AACAPwAAkEFaAJA/WgCQP1oAkD5aggCANQAAgEEAAIA/AACAPwAAkDtaAJA/WgCQPlqCAIA7AACAPwAAkDtaAJA+WoIAgDsAggCAPgAAkD9aggCAPgAAgD8AggCAPgAAkD5aAJA/WoIAgD8AhgCAPgAAkD9aAJA/WgCQP1oAkD9aAJA/WgCQP1oAkD9aAJA/WgCQP1oAkD9aAJA/WgCQP1oAkD9aAJA/WgCQP1oAkD9aAJA/WgCQP1oAkD9aAJA/WgCQP1oAkD9aAJA/WgCQP1oAkD9aAJA/WgCQP1oAkD9aAJA/WgCQP1oAkD9aAJA/WgCQP1oAkD9aAJA/WgCQP1oAkD9aggCAPwAAgD8AAIA/AACAPwAAgD8AAIA/AACAPwAAgD8AAIA/AACAPwAAgD8AAIA/AACAPwAAgD8AAIA/AACAPwAAgD8AAIA/AACAPwAAgD8AAIA/AACAPwAAgD8AAIA/AACAPwAAgD8AAIA/AACAPwAAgD8AAIA/AACAPwAAgD8AAIA/AACAPwAAgD8AAIA/AACAPwCIAP8vAA==');\n",
       "                        });\n",
       "                </script>"
      ],
      "text/plain": [
       "<IPython.core.display.HTML object>"
      ]
     },
     "metadata": {},
     "output_type": "display_data"
    },
    {
     "name": "stdout",
     "output_type": "stream",
     "text": [
      "\n",
      "Elements of newly generated music with index=1:  {'note': 132, 'chord': 0, 'rest': 18}\n",
      "Created new MIDI file\n"
     ]
    },
    {
     "data": {
      "text/html": [
       "\n",
       "                <div id='midiPlayerDiv394190'></div>\n",
       "                <link rel=\"stylesheet\" href=\"//cuthbertLab.github.io/music21j/css/m21.css\"\n",
       "                    type=\"text/css\" />\n",
       "                <script>\n",
       "                require.config({\n",
       "                    paths: {'music21': '//cuthbertLab.github.io/music21j/src/music21'}\n",
       "                });\n",
       "                require(['music21'], function() {\n",
       "                               mp = new music21.miditools.MidiPlayer();\n",
       "                               mp.addPlayer('#midiPlayerDiv394190');\n",
       "                               mp.base64Load('data:audio/midi;base64,TVRoZAAAAAYAAQACBABNVHJrAAAAFAD/UQMHoSAA/1gEBAIYCIgA/y8ATVRyawAABGQA/wMAAOAAQIoAkExaggCATAAAkEFaAJA1WoIAgEEAAJBBWgCQNVqCAIA1AACAQQAAkEFaggCANQAAgEEAAJBBWgCQNVoAkDVaggCAQQAAkEFaggCANQAAgDUAAIBBAACQQVoAkDVaggCAQQAAkEFaAJA5WgCQP1oAkDVaggCANQAAgEEAAIA5AACQQVqCAIA/AACANQAAgEEAAJBBWoIAgEEAAJA7WoIAgDsAAJA7WoIAgDsAAJA7WoIAgDsAggCQP1qEAIA/AACQQlqCAIBCAIIAkEJaAJBCWgCQQlqCAIBCAACAQgAAgEIAAJBBWgCQNVqCAIBBAACQQVoAkDlaggCANQAAgEEAAIA5AACQQVqCAIBBAACQQVqCAIBBAACQQVqCAIBBAACQQVqCAIBBAFWQQVoAkDlaggCAQQAAgDkAggCQQlqCAIBCAACQQVqCAIBBAIQAkDtaggCAOwAAkDtaAJA/WgCQPloAkD5aAJA+WgCQPloAkD5aAJA+WgCQPloAkD5aAJA+WgCQPloAkD5aAJA+WoIAgDsAAIA/AIIAkD5ahACAPgAAgD4AAIA+AACAPgAAgD4AAIA+AACAPgAAgD4AAIA+AACAPgAAgD4AAIA+AIQAgD4AmgCQO1oAkD9aAJA/WgCQP1oAkEFaAJA/WoIAgDsAAIA/AACAPwAAgD8AAIA/AACQO1qCAIBBAACAOwAAkDtaAJA6WgCQN1qCAIA7AACQQFqCAIA6AACANwAAgEAAAJA7WgCQN1oAkDdaAJBDWgCQQ1oAkDlaAJA/WoIAgDsAAIA/AACQN1oAkDlaAJA/WgCQP1oAkD9aggCANwAAgDcAAIBDAACAQwAAgDkAAIA3AACAPwAAgD8AAIA/AACQVFoAkD9aggCAOQAAgFQAAIA/AACQVFoAkD9aggCAVAAAgD8AAJBUWgCQP1oAkDVaAJA1WgCQP1oAkDVaAJA/WgCQP1qCAIBUAACAPwAAgD8AAIA/AACAPwAAkEFaAJA/WgCQP1oAkD9aAJA/WgCQP1oAkD9aAJA/WgCQP1oAkD9aAJA/WgCQP1oAkD9aAJA/WgCQP1oAkD9aAJA/WgCQP1oAkD9aAJA/WgCQP1oAkD9aAJA/WoIAgDUAAIA1AACANQAAgEEAAIA/AACAPwAAgD8AAIA/AACAPwAAgD8AAIA/AACAPwAAgD8AAIA/AACAPwAAgD8AAIA/AACAPwAAgD8AAIA/AACAPwAAgD8AAIA/AACAPwAAgD8AAIA/AACQTloAkD9aAJA5WoIAgE4AAIA/AACAOQAAkEFaAJA1WgCQOVoAkD9aggCAQQAAgDkAAIA/AACQQVoAkD9aggCANQAAgEEAAIA/AIIAkENaAJA/WoIAgD8AAJBBWgCQP1qCAIBDAACAQQAAgD8AAJBBWgCQP1qCAIBBAACAPwAAkEFaAJA/WoIAgEEAAIA/AACQQVoAkD9aAJA/WoIAgEEAAIA/AACAPwCIAP8vAA==');\n",
       "                        });\n",
       "                </script>"
      ],
      "text/plain": [
       "<IPython.core.display.HTML object>"
      ]
     },
     "metadata": {},
     "output_type": "display_data"
    },
    {
     "name": "stdout",
     "output_type": "stream",
     "text": [
      "\n",
      "Elements of newly generated music with index=2:  {'note': 134, 'chord': 0, 'rest': 16}\n",
      "Created new MIDI file\n"
     ]
    },
    {
     "data": {
      "text/html": [
       "\n",
       "                <div id='midiPlayerDiv395557'></div>\n",
       "                <link rel=\"stylesheet\" href=\"//cuthbertLab.github.io/music21j/css/m21.css\"\n",
       "                    type=\"text/css\" />\n",
       "                <script>\n",
       "                require.config({\n",
       "                    paths: {'music21': '//cuthbertLab.github.io/music21j/src/music21'}\n",
       "                });\n",
       "                require(['music21'], function() {\n",
       "                               mp = new music21.miditools.MidiPlayer();\n",
       "                               mp.addPlayer('#midiPlayerDiv395557');\n",
       "                               mp.base64Load('data:audio/midi;base64,TVRoZAAAAAYAAQACBABNVHJrAAAAFAD/UQMHoSAA/1gEBAIYCIgA/y8ATVRyawAABJMA/wMAAOAAQIoAkE5aggCATgCCAJBNWoIAkEtaggCATQAAgEsAAJBLWoIAgEsAAJBLWoIAgEsAAJBLWoIAgEsAggCQRlqCAJBLWoIAgEYAAIBLAIIAkEZaggCQS1oAkDVaggCARgAAgEsAggCANQAAkE1aAJA5WoIAgDkAAJBLWgCQNVoAkD9aggCATQAAgEsAAIA/AACQS1qCAIA1AACASwAAkExaggCATAAAkEFaAJA/WoIAgEEAAIA/AACQS1qCAIBLAIIAkEhaggCQQVoAkDBaAJAwWoIAgEgAAIBBAACAMAAAgDAAAJBLWgCQMFoAkDBaggCASwAAgDAAAIAwAIIAkEhaAJAwWgCQMFoAkDBaAJAwWgCQMFoAkDBaAJAwWgCQMFqCAIAwAACAMAAAgDAAAIAwAACAMAAAgDAAAIAwAACAMAAAkEdaAJAwWgCQP1oAkDtaAJA/WgCQO1qCAIBIAACARwAAgDAAAIA/AACAOwAAgDsAAJBBWgCQO1qCAIA/AACAQQAAgDsAggCQRloAkD1aAJA7WgCQPVqCAIA9AACAOwAAgD0AggCARgAAkEZahACARgAAkD9aggCAPwCCAJBGWgCQLVoAkD9aggCALQAAgD8AAJBUWgCQP1oAkD9aAJA/WgCQP1oAkD9aAJA/WgCQP1oAkD9aAJA/WgCQP1oAkD9aAJA/WgCQP1oAkD9aggCARgAAgFQAAIA/AACAPwAAgD8AAIA/AACAPwAAgD8AAIA/AACAPwAAgD8AAIA/AACAPwAAgD8AAIA/AACAPwAAkE5aAJA/WgCQP1qCAIBOAACAPwAAgD8AAJBBWoIAgEEAAJBOWoIAgE4AAJBKWoIAgEoAAJBBWoIAgEEAAJBOWoIAgE4AAJBOWgCQO1oAkDlaAJA5WoIAgE4AAIA7AACAOQAAgDkAggCQSFoAkEBaAJA/WoIAgD8AAJBBWoIAgEgAAIBAAACAQQAAkE5aAJA/WoIAgE4AAIA/AFWQTloAkD9aggCATgAAgD8AAJBLWgCQP1qCAIBLAACAPwAAkEtaAJA/WoIAgEsAAIA/AIIAkE1aAJA/WoIAgD8AAJBLWgCQP1qCAIBNAACASwAAgD8AAJBLWgCQP1qCAIBLAACAPwAAkEtaAJA/WoIAgEsAAIA/AIIAkE1ahACATQAAkE1ahACATQAAkExaggCQS1qCAIBMAACASwAAkEtaggCASwAAkEtaggCASwCCAJBNWoQAgE0AAJBNWoQAgE0AAJBIWoQAgEgAAJBIWoQAgEgAAJBIWgCQP1qEAIBIAACAPwAAkEhaAJBCWoIAgEIAAJBLWgCQQlqCAIBIAACASwAAgEIAggCQSFoAkEJaggCAQgAAkEtaAJBCWoIAgEgAAIBLAACAQgCCAJBDWgCQP1qCAIA/AACQS1oAkDVaggCAQwAAgEsAggCANQAAkEhaAJA/WoIAgD8AggCASAAAkEhaAJA1WoQAgEgAAIA1AACQTVoAkD9aggCAPwCCAIBNAACQTVqEAIBNAACQTVqCAJA+WoIAgE0AAIA+AIgA/y8A');\n",
       "                        });\n",
       "                </script>"
      ],
      "text/plain": [
       "<IPython.core.display.HTML object>"
      ]
     },
     "metadata": {},
     "output_type": "display_data"
    },
    {
     "name": "stdout",
     "output_type": "stream",
     "text": [
      "\n",
      "Elements of newly generated music with index=3:  {'note': 131, 'chord': 0, 'rest': 19}\n",
      "Created new MIDI file\n"
     ]
    },
    {
     "data": {
      "text/html": [
       "\n",
       "                <div id='midiPlayerDiv396924'></div>\n",
       "                <link rel=\"stylesheet\" href=\"//cuthbertLab.github.io/music21j/css/m21.css\"\n",
       "                    type=\"text/css\" />\n",
       "                <script>\n",
       "                require.config({\n",
       "                    paths: {'music21': '//cuthbertLab.github.io/music21j/src/music21'}\n",
       "                });\n",
       "                require(['music21'], function() {\n",
       "                               mp = new music21.miditools.MidiPlayer();\n",
       "                               mp.addPlayer('#midiPlayerDiv396924');\n",
       "                               mp.base64Load('data:audio/midi;base64,TVRoZAAAAAYAAQACBABNVHJrAAAAFAD/UQMHoSAA/1gEBAIYCIgA/y8ATVRyawAABIEA/wMAAOAAQIoAkExaAJA1WoIAgEwAAJBBWoIAgEEAAJBBWoIAgEEAggCANQAAkEpaggCQQVoAkEBaggCASgAAgEEAggCAQAAAkD5ahACAPgAAkD5ahACAPgAAkD5ahACAPgAAkEpahACASgAAkD9aAJA/WgCQP1oAkD9aAJA+WgCQPloAkD9aAJA+WoIAgD8AAIA/AACAPwAAgD8AAIA/AACQO1qCAIA7AACQO1oAkD9aAJA+WoIAgDsAAIA/AACQO1qCAIA+AACAPgAAgD4AAIA7AIQAgD4AggCQP1oAkD9aAJA/WgCQP1oAkD9aAJA/WgCQP1qCAIA/AACAPwAAgD8AAIA/AACAPwAAgD8AAIA/AACQO1qCAIA7AACQO1oAkD9aAJA/WgCQP1oAkD9aAJA/WoIAgDsAAIA/AACAPwAAgD8AAIA/AACAPwCEAJA7WgCQP1oAkD9aAJA/WgCQP1oAkDpaAJA1WgCQP1oAkD9aggCAOwAAgD8AAIA/AACAPwAAgD8AAIA/AACAPwAAkEFaAJA7WgCQQlqCAIA6AACANQAAgEEAAIBCAIIAgDsAAJBGWgCQP1qCAIA/AIIAgEYAAJBGWoQAgEYAAJA/WoIAgD8AhlWQRlqEAIBGAFaQRlqEAIBGAFWQRlqEAIBGAFWQRlqCAJBBWoIAgEYAAIBBAIIAkEZagyuQQVpVgEYAgSuAQQCCAJBGWlWQOVqCAIA5AIErgEYAVZBGWoJWkEFagSqARgBWgEEAAJBBWoIAgEEAAJBBWoIAgEEAAJBBWgCQOVoAkDlaAJBCWgCQP1oAkD9aAJA/WgCQP1oAkDlaAJA/WgCQP1oAkDlaggCAQQAAgDkAAIA5AACAQgAAgD8AAIA/AACAPwAAgD8AAIA5AACAPwAAgD8AAIA5AIIAkEhaAJA/WoIAgD8AggCASAAAkDlaAJA/WoIAgD8AggCAOQAAkEhaAJA/WoIAgD8AAJBBWgCQP1qCAIBIAACAQQAAgD8AggCQSFoAkD9aAJA/WoIAgD8AAIA/AIIAgEgAAJBIWgCQP1qCAIA/AIIAgEgAnACQP1qCAIA/AACQQVqCAIBBAACQTVoAkD9aggCATQAAgD8AAJBBWoIAgEEAggCQSFoAkD9aggCAPwAAkEFaAJA/WoIAgEgAAIBBAACAPwCCAJBIWgCQP1qCAIA/AACQQVoAkD9aAJA/WgCQP1oAkDtaAJA/WoIAgEgAAIBBAACAPwAAgD8AAIA/AACAPwAAkEFaggCAOwAAgEEAggCQP1qCAIA/AIIAkD9aggCAPwAAkDtaggCAOwAAkDtaggCAOwAAkDtaggCAOwAAkDtaggCAOwAAkDtaggCAOwAAkDtaggCAOwAAkDtaggCAOwAAkDtaggCAOwAAkDtaAJA7WoIAgDsAAJA7WoIAgDsAAIA7AACQO1qCAIA7AIQAkDtaAJBAWoIAgDsAAIBAAACQO1qCAIA7AIIAkEZaggCQQVoAkD9aggCARgAAgEEAAIA/AACQQVqCAIBBAIgA/y8A');\n",
       "                        });\n",
       "                </script>"
      ],
      "text/plain": [
       "<IPython.core.display.HTML object>"
      ]
     },
     "metadata": {},
     "output_type": "display_data"
    },
    {
     "name": "stdout",
     "output_type": "stream",
     "text": [
      "\n",
      "Elements of newly generated music with index=4:  {'note': 132, 'chord': 0, 'rest': 18}\n",
      "Created new MIDI file\n"
     ]
    },
    {
     "data": {
      "text/html": [
       "\n",
       "                <div id='midiPlayerDiv398291'></div>\n",
       "                <link rel=\"stylesheet\" href=\"//cuthbertLab.github.io/music21j/css/m21.css\"\n",
       "                    type=\"text/css\" />\n",
       "                <script>\n",
       "                require.config({\n",
       "                    paths: {'music21': '//cuthbertLab.github.io/music21j/src/music21'}\n",
       "                });\n",
       "                require(['music21'], function() {\n",
       "                               mp = new music21.miditools.MidiPlayer();\n",
       "                               mp.addPlayer('#midiPlayerDiv398291');\n",
       "                               mp.base64Load('data:audio/midi;base64,TVRoZAAAAAYAAQACBABNVHJrAAAAFAD/UQMHoSAA/1gEBAIYCIgA/y8ATVRyawAABIYA/wMAAOAAQIoAkExaggCATAAAkEZaAJA/WoIAgEYAAIA/AIIAkE1aAJA5WgCQNVoAkEJaAJA7WoIAgDkAAIBCAACAOwCCAIBNAACANQAAkEZaAJA/WgCQP1oAkD9aAJA/WgCQQloAkDVaAJA/WoIAgD8AAIA/AACAPwAAgD8AAIBCAACAPwAAkFRaggCARgAAgDUAAIBUAACQVFoAkDVaggCAVAAAkFRaggCANQAAgFQAAJBUWgCQNVqCAIBUAACQVFoAkDVaAJA/WoIAgDUAAIBUAACAPwCCAIA1AACQRlqCAJBBWoIAgEYAAIBBAACQQVqCAIBBAACQQVoAkD9aggCAQQAAgD8AggCQOloAkDVaAJA1WgCQP1oAkD9aAJA/WoIAgD8AAIA/AACAPwCCAIA6AACQP1qCAIA/AACQO1qCAIA1AACANQAAgDsAggCQNVoAkD9aAJA/WoIAgD8AAIA/AIIAgDUAAJA6WgCQP1qCAIA/AIIAgDoAggCQT1qCAIBPAACQTlqCAIBOAACQTFqCAIBMAACQQVqCAIBBAACQSlqCAIBKAACQTloAkD9aggCATgAAgD8AAJBMWoIAgEwAAJBKWoIAgEoAAJBMWoIAgEwAAJBBWoIAgEEAVZBBWoIAgEEAAJBDWoIAgEMAAJBBWoIAgEEAAJBOWoIAgE4AAJBBWoIAgEEAVpBMWlWQP1qBK4BMAFWAPwCCAJBGWgCQQFoAkENaAJA5WlWQQFoAkENaAJA1WgCQQFoAkEBagSuAQAAAgEMAAIA5AFWAQAAAgEMAAIBAAACAQACBK4BGAFWANQCCVpBOWoIAgE4AAJBPWgCQQFoAkENaggCATwAAgEAAAIBDAIIAkEZaggCQQ1oAkEBaggCARgAAgEMAAIBAAACQQ1qCAIBDAACQQ1oAkDtaggCAQwAAgDsAAJBDWgCQO1qCAIBDAACAOwAAkEFaggCAQQAAkExaggCATAAAkEFaVZA7WoErgEEAVYA7AACQQVoAkDtaggCAQQAAgDsAAJBBWoIAgEEAVZBDWgCQO1oAkDtaAJBCWoIAgEMAAIA7AACAOwAAgEIAAJBDWoIAgEMAAJBBWgCQO1qCAIBBAACAOwCCAJBGWgCQM1qCAIAzAACQQVqCAIBGAACAQQAAkFRaAJBCWoIAgFQAAIBCAIIAkEZaggCQVFqCAIBGAACAVABWkEFaggCAQQAAkEFaggCAQQCCAJBGWoIAkEFaAJA/WgCQP1oAkD9aAJA/WgCQP1oAkD9aAJA/WgCQP1oAkD9aAJA/WgCQP1qCAIBGAACAQQAAgD8AAIA/AACAPwAAgD8AAIA/AACAPwAAgD8AAIA/AACAPwAAgD8AAIA/AIIAkD9aAJA/WgCQP1oAkD9aAJA/WgCQP1qCAIA/AACAPwAAgD8AAIA/AACAPwAAgD8AngCQP1qCAIA/AIQAkDtaAJA/WoIAgDsAAIA/AKIAkExaAJBCWoIAgEIAggCATAAAkD9aAJBAWoIAgD8AggCAQACCAJBUWoIAgFQAiAD/LwA=');\n",
       "                        });\n",
       "                </script>"
      ],
      "text/plain": [
       "<IPython.core.display.HTML object>"
      ]
     },
     "metadata": {},
     "output_type": "display_data"
    },
    {
     "name": "stdout",
     "output_type": "stream",
     "text": [
      "\n",
      "Elements of newly generated music with index=5:  {'note': 136, 'chord': 0, 'rest': 14}\n",
      "Created new MIDI file\n"
     ]
    },
    {
     "data": {
      "text/html": [
       "\n",
       "                <div id='midiPlayerDiv399658'></div>\n",
       "                <link rel=\"stylesheet\" href=\"//cuthbertLab.github.io/music21j/css/m21.css\"\n",
       "                    type=\"text/css\" />\n",
       "                <script>\n",
       "                require.config({\n",
       "                    paths: {'music21': '//cuthbertLab.github.io/music21j/src/music21'}\n",
       "                });\n",
       "                require(['music21'], function() {\n",
       "                               mp = new music21.miditools.MidiPlayer();\n",
       "                               mp.addPlayer('#midiPlayerDiv399658');\n",
       "                               mp.base64Load('data:audio/midi;base64,TVRoZAAAAAYAAQACBABNVHJrAAAAFAD/UQMHoSAA/1gEBAIYCIgA/y8ATVRyawAABLsA/wMAAOAAQIoAkExaAJBAWgCQPlqCAIBMAIIAgEAAAIA+AACQRlqEAIBGAACQTVqEAIBNAACQRlqEAIBGAACQRlqEAIBGAACQRlqEAIBGAACQRlqEAIBGAACQRlqEAIBGAACQRlqEAIBGAACQRlqEAIBGAACQRlqEAIBGAACQRlqCAJBMWoIAgEYAAIBMAACQTFqCAIBMAACQTFqCAIBMAIIAkEZaggCQTFqCAIBGAACATACCAJBGWoIAkExaggCARgAAgEwAAJBMWoIAgEwAggCQRloAkDtaggCAOwAAkExaAJA7WgCQO1qCAIBGAACATAAAgDsAAIA7AIIAkEZaAJA7WoIAgDsAAJBDWoIAgEYAAIBDAIIAkEZaggCQT1qCAIBGAACATwAAkEFaggCAQQCCAJBGWoIAkE9aggCARgAAgE8AVZBPWoIAgE8AVpBDWoIAgEMAAJBDWoIAgEMAAJBDWoIAgEMAVZBPWoIAgE8AAJBMWoIAgEwAAJBKWoIAgEoAAJBMWoIAgEwAAJBKWoIAgEoAAJBDWoIAgEMAAJBDWgCQO1qCAIBDAACAOwCCAJBGWoQAgEYAggCQRlqEAIBGAACQQloAkEJaAJBAWoIAgEIAAIBCAACAQAAAkExaggCATAAAkEFaggCAQQAAkEFaggCAQQAAkEFaAJBCWoIAgEEAAIBCAACQQVoAkEJaAJBCWoIAgEEAAIBCAACAQgAAkD9aAJAzWoIAgDMAAJBBWoIAgD8AAIBBAACQQVqCAIBBAACQQVqCAIBBAACQTFqCAIBMAACQQVqCAIBBAACQSlqCAIBKAACQQVqCAIBBAACQQVqCAIBBAACQQVqCAIBBAACQQVqCAIBBAACQQVoAkD9aggCAQQCCAIA/AIIAkExaAJAzWoIAgEwAAIAzAACQQVqCAIBBAACQQVqCAIBBAACQQVqCAIBBAACQTFqCAIBMAACQQVqCAIBBAACQSlqCAIBKAACQQVqCAIBBAACQQ1qCAIBDAACQQVqCAIBBAACQQVqCAIBBAIIAkD9aAJA/WoIAgD8AAIA/AIIAkD9aggCAPwAAkDtaggCAOwCCAJA/WgCQP1oAkD9aggCAPwAAgD8AAIA/AIIAkD9aggCAPwAAkEFaAJA/WgCQP1oAkD9aAJA/WgCQP1qCAIBBAACAPwAAgD8AAIA/AACAPwAAgD8AAJBBWgCQP1qCAIBBAACAPwAAkEFaAJA/WoIAgEEAAIA/AACQQVqCAIBBAACQS1oAkD9aggCASwAAgD8AggCQTFoAkD9aAJA/WgCQP1oAkD9aAJA/WgCQP1oAkD9aAJA/WgCQP1oAkD9aAJA/WgCQP1oAkD9aAJA1WgCQNVoAkDVaggCAPwAAgD8AAIA/AACAPwAAgD8AAIA/AACAPwAAgD8AAIA/AACAPwAAgD8AAIA/AACAPwCCAIBMAACANQAAgDUAAIA1AACQRlqEAIBGAACQRlqEAIBGAACQRlqEAIBGAACQRlqEAIBGAACQRlqEAIBGAACQRlqEAIBGAACQRlqEAIBGAACQRlqCAJBUWgCQQloAkEJaggCARgAAgFQAAIBCAACAQgAAkEFaggCAQQCIAP8vAA==');\n",
       "                        });\n",
       "                </script>"
      ],
      "text/plain": [
       "<IPython.core.display.HTML object>"
      ]
     },
     "metadata": {},
     "output_type": "display_data"
    },
    {
     "name": "stdout",
     "output_type": "stream",
     "text": [
      "\n",
      "Elements of newly generated music with index=6:  {'note': 144, 'chord': 0, 'rest': 6}\n",
      "Created new MIDI file\n"
     ]
    },
    {
     "data": {
      "text/html": [
       "\n",
       "                <div id='midiPlayerDiv401025'></div>\n",
       "                <link rel=\"stylesheet\" href=\"//cuthbertLab.github.io/music21j/css/m21.css\"\n",
       "                    type=\"text/css\" />\n",
       "                <script>\n",
       "                require.config({\n",
       "                    paths: {'music21': '//cuthbertLab.github.io/music21j/src/music21'}\n",
       "                });\n",
       "                require(['music21'], function() {\n",
       "                               mp = new music21.miditools.MidiPlayer();\n",
       "                               mp.addPlayer('#midiPlayerDiv401025');\n",
       "                               mp.base64Load('data:audio/midi;base64,TVRoZAAAAAYAAQACBABNVHJrAAAAFAD/UQMHoSAA/1gEBAIYCIgA/y8ATVRyawAABOIA/wMAAOAAQIoAkE5aAJA/WoIAgE4AAIA/AIIAkDlahACAOQAAkE1aggCQQlqCAIBNAACAQgCCAJBIWgCQP1qCAIA/AIIAgEgAAJBNWgCQP1qCAIA/AIIAgE0AAJBNWgCQP1qCAIA/AIIAgE0AAJBDWoIAkEdaggCAQwAAgEcAggCQSFoAkD9aggCAPwCCAIBIAACQSFoAkD9aggCAPwCCAIBIAACQTVqCAJBHWoIAgE0AAIBHAIIAkE1aAJA/WoIAgD8AggCATQAAkENaAJA/WoIAgD8AggCAQwAAkEhahACASAAAkDpahACAOgAAkEhaAJA/WgCQP1oAkD9aggCAPwAAgD8AAIA/AIIAgEgAAJBIWgCQP1oAkD9aggCAPwAAgD8AggCASAAAkE1aAJA/WoIAgD8AAJBGWgCQP1qCAIBNAACARgAAgD8AAJBGWgCQP1qCAIBGAACAPwAAkEZaggCARgAAkEtaggCASwCCAJBIWgCQP1qCAIA/AACQRlpVkDlaAJA/WoErgEgAAIBGAFWAPwAAkEFaAJA/WgCQP1oAkD9aAJA/WgCQP1oAkD9aAJA/WgCQP1oAkD9aAJA/WgCQP1oAkDdaAJA/WgCQN1oAkD9aAJA3WgCQP1oAkDdaAJA/WgCQN1oAkD9aAJA3WgCQP1qCAIA5AACAQQAAgD8AAIA/AACAPwAAgD8AAIA/AACAPwAAgD8AAIA/AACAPwAAgD8AAIA/AACANwAAgD8AAIA3AACAPwAAgDcAAIA/AACANwAAgD8AAIA3AACAPwAAgDcAAIA/AACQQVoAkD9aAJA/WgCQP1oAkDlaAJA/WgCQN1oAkD9aAJA3WgCQQlqCAIBBAACAPwAAgD8AAIA/AACAPwAAgDcAAIA/AACANwAAgEIAggCAOQAAkExaAJBAWoQAgEwAAIBAAACQTFqEAIBMAACQTFqEAIBMAACQTFqEAIBMAACQTFqEAIBMAACQTFqEAIBMAACQP1oAkD9aAJA/WgCQP1oAkD9aAJA/WgCQP1oAkD9aAJA/WgCQP1oAkD9aAJA/WgCQP1oAkD9aAJA/WgCQP1oAkD9aAJA/WgCQP1oAkDVaAJA1WoIAgD8AAIA/AACAPwAAgD8AAIA/AACAPwAAgD8AAIA/AACAPwAAgD8AAIA/AACAPwAAgD8AAIA/AACAPwAAgD8AAIA/AACAPwAAgD8AggCANQAAgDUAAJBGWoQAgEYAAJBGWoQAgEYAAJBGWoQAgEYAAJBGWoIAkDtaggCARgAAgDsAggCQRlqEAIBGAACQRlqEAIBGAACQRlqEAIBGAACQRlqEAIBGAACQRlqEAIBGAACQRlqEAIBGAACQRlqEAIBGAACQRlqEAIBGAACQRlqCAJBMWoIAgEYAAIBMAACQQVoAkDVaggCAQQAAkEFaAJBCWoIAgDUAAIBBAACAQgAAkEFaggCAQQAAkExaggCATAAAkEFaggCAQQAAkEFaAJBCWgCQQloAkD9aAJBCWgCQOVqCAIBBAACAQgAAgEIAAIBCAACAOQBWkE9agSqAPwBWgE8AAJBPWoIAgE8AglWQQFqCAJBBWoIAgEAAAIBBAIIAkEZaggCQT1oAkDlaggCARgAAgE8AAIA5AIIAkEhaggCQQVqCAIBIAACAQQCIAP8vAA==');\n",
       "                        });\n",
       "                </script>"
      ],
      "text/plain": [
       "<IPython.core.display.HTML object>"
      ]
     },
     "metadata": {},
     "output_type": "display_data"
    },
    {
     "name": "stdout",
     "output_type": "stream",
     "text": [
      "\n",
      "Elements of newly generated music with index=7:  {'note': 103, 'chord': 0, 'rest': 47}\n",
      "Created new MIDI file\n"
     ]
    },
    {
     "data": {
      "text/html": [
       "\n",
       "                <div id='midiPlayerDiv402392'></div>\n",
       "                <link rel=\"stylesheet\" href=\"//cuthbertLab.github.io/music21j/css/m21.css\"\n",
       "                    type=\"text/css\" />\n",
       "                <script>\n",
       "                require.config({\n",
       "                    paths: {'music21': '//cuthbertLab.github.io/music21j/src/music21'}\n",
       "                });\n",
       "                require(['music21'], function() {\n",
       "                               mp = new music21.miditools.MidiPlayer();\n",
       "                               mp.addPlayer('#midiPlayerDiv402392');\n",
       "                               mp.base64Load('data:audio/midi;base64,TVRoZAAAAAYAAQACBABNVHJrAAAAFAD/UQMHoSAA/1gEBAIYCIgA/y8ATVRyawAAA6QA/wMAAOAAQIoAkExaggCATAAAkFRaggCAVAAAkFRaggCAVAAAkFRaggCAVAAAkEFaAJBCWoIAgEEAAIBCAACQVFoAkDVaggCAVAAAkFRaggCANQAAgFQAAJBBWoIAgEEAAJBUWoIAgFQAAJA7WoIAgDsAAJA7WoIAgDsAAJA7WoIAgDsAAJA7WoIAgDsAAJA7WoIAgDsAAJA7WoIAgDsAAJA7WoIAgDsAAJA7WoIAgDsAAJA7WgCQLVqCAIA7AACALQAAkDtaggCAOwAAkDtaggCAOwAAkDtaAJAtWoIAgDsAAIAtAACQSVoAkDpaggCASQAAkDtaggCAOgAAgDsAAJA7WoIAgDsAAJA7WoIAgDsAAJA7WoIAgDsAAJA7WoIAgDsAAJA7WoIAgDsAAJA7WoIAgDsAAJA7WoIAgDsAAJA7WoIAgDsAAJA7WoIAgDsAAJA7WgCQN1oAkDlaAJA5WgCQOVoAkDlaAJA5WgCQOVqCAIA7AACQO1qCAIA3AACAOQAAgDkAAIA5AACAOQAAgDkAAIA5AACAOwAAkElaAJA6WoIAgEkAAJA7WoIAgDoAAIA7AACQO1qCAIA7AJAAkDtaggCAOwAAkDtaggCAOwAAkDtaggCAOwAAkDtaggCAOwAAkDRaggCANACaAJA6WgCQOlqCAJBJWgCQOlqCAIA6AACAOgAAgEkAggCAOgDMAJA6WgCQOlqEAIA6AACAOgCWAJA0WoIAgDQAiACQNFqCAIA0AIwAkDRaggCANAAAkDRaggCANAAAkDRaggCANAAAkDRaggCANAAAkDRaggCANAAAkDRaggCANAAAkDRaggCANAAAkDRaggCANAAAkDRaggCANAAAkDRaggCANAAAkDRaggCANAAAkDRaggCANAAAkDRaggCANAAAkDRaggCANAAAkDRaggCANAAAkDRaggCANAAAkDRaggCANAAAkDRaggCANAAAkDtaggCAOwAAkDtaggCAOwAAkDtaggCAOwAAkDtaggCAOwAAkDtaggCAOwAAkDtaggCAOwAAkDtaggCAOwAAkDtaggCAOwAAkDtaggCAOwAAkDtaggCAOwAAkDtaggCAOwAAkDtaggCAOwAAkDtaggCAOwAAkDtaggCAOwAAkDtaggCAOwAAkDtaggCAOwAAkDtaggCAOwAAkDtaggCAOwAAkDtaggCAOwAAkDtaggCAOwCCAJA6WgCQOlqEAIA6AACAOgCIAP8vAA==');\n",
       "                        });\n",
       "                </script>"
      ],
      "text/plain": [
       "<IPython.core.display.HTML object>"
      ]
     },
     "metadata": {},
     "output_type": "display_data"
    },
    {
     "name": "stdout",
     "output_type": "stream",
     "text": [
      "\n",
      "Elements of newly generated music with index=8:  {'note': 130, 'chord': 0, 'rest': 20}\n",
      "Created new MIDI file\n"
     ]
    },
    {
     "data": {
      "text/html": [
       "\n",
       "                <div id='midiPlayerDiv403759'></div>\n",
       "                <link rel=\"stylesheet\" href=\"//cuthbertLab.github.io/music21j/css/m21.css\"\n",
       "                    type=\"text/css\" />\n",
       "                <script>\n",
       "                require.config({\n",
       "                    paths: {'music21': '//cuthbertLab.github.io/music21j/src/music21'}\n",
       "                });\n",
       "                require(['music21'], function() {\n",
       "                               mp = new music21.miditools.MidiPlayer();\n",
       "                               mp.addPlayer('#midiPlayerDiv403759');\n",
       "                               mp.base64Load('data:audio/midi;base64,TVRoZAAAAAYAAQACBABNVHJrAAAAFAD/UQMHoSAA/1gEBAIYCIgA/y8ATVRyawAABFoA/wMAAOAAQIoAkExaggCATAAAkEFaAJA/WoIAgEEAAIA/AACQQVqCAIBBAACQQ1qCAIBDAACQQVqCAIBBAIIAkEZaggCQQVqCAIBGAACAQQCCAJBGWoIAkEFaggCARgAAgEEAVZBBWgCQQlpWkDlaVZA5WlWAQQAAgEIAVoA5AFWAOQCKAJBBWgCQOVoAkEJaggCAQQAAgDkAAIBCAACQQVoAkDlaAJA1WgCQO1qCAIBBAACAOQAAgDsAAJBBWgCQNVqCAIA1AACAQQAAkEFaAJA1WoIAgDUAAIBBAACQQVqCAIA1AACAQQAAkEFaggCAQQAAkEFaggCAQQAAkEFaggCAQQCCAJA+WoQAkD9aAJA/WgCQPlqCAIA/AACAPwAAkEFaAJA/WgCQOVqCAIA+AACAQQAAgD8AAIA5AIIAkD9aAJA/WgCQP1oAkD9aggCAPgAAgD8AAIA/AACAPwAAgD8AAJBBWoIAgEEAAJBOWgCQP1qCAIBOAACAPwAAkEFaggCAQQAAkE5aggCATgAAkEdaAJA/WoIAgEcAAIA/AACQUloAkDtaggCAUgAAgDsAAJBBWgCQP1qCAIBBAACAPwAAkEFaAJA/WgCQP1oAkD9aAJA/WgCQP1oAkD9aAJA/WgCQP1oAkD9aggCAQQAAgD8AAIA/AACAPwAAgD8AAIA/AACAPwAAgD8AAIA/AACAPwAAkEZaggCARgAAkEZaAJA1WoIAgEYAAJBBWoIAgDUAAIBBAACQQVqCAIBBAACQQVoAkD9aggCAQQAAgD8AAJBBWoIAgEEAAJBMWoIAgEwAggCQQ1qCAJBMWoIAgEMAAIBMAACQQVoAkD9aggCAQQAAgD8AAJBMWoIAgEwAggCQP1qCAIA/AACQQVoAkD9aAJA/WgCQP1oAkD9aAJA/WgCQP1oAkD9aAJA/WgCQP1oAkD9aAJA/WgCQP1oAkD9aAJA/WgCQP1oAkD9aAJA/WgCQP1oAkD9aggCAQQAAgD8AAIA/AACAPwAAgD8AAIA/AACAPwAAgD8AAIA/AACAPwAAgD8AAIA/AACAPwAAgD8AAIA/AACAPwAAgD8AAIA/AACAPwAAgD8AngCQP1qCAIA/AIIAkDlaAJBCWgCQOVoAkDlaAJA5WgCQOVoAkDVaAJA/WoIAgDkAAIBCAACAOQAAgDkAAIA5AACAOQAAgD8AggCANQAAkEZaggCQQVoAkD9aggCARgAAgEEAAIA/AACQQVoAkD9aAJA/WgCQP1oAkD9aAJA/WgCQP1oAkD9aAJA/WgCQP1oAkD9aAJA/WoIAgEEAAIA/AACAPwAAgD8AAIA/AACAPwAAgD8AAIA/AACAPwAAgD8AAIA/AACAPwAAkEFaAJA/WgCQP1oAkD9aAJA/WoIAgEEAAIA/AACAPwAAgD8AAIA/AACQVFoAkD9aAJA/WgCQNVoAkDRaggCAVAAAgD8AAIA/AACANACCAIA1AIgA/y8A');\n",
       "                        });\n",
       "                </script>"
      ],
      "text/plain": [
       "<IPython.core.display.HTML object>"
      ]
     },
     "metadata": {},
     "output_type": "display_data"
    },
    {
     "name": "stdout",
     "output_type": "stream",
     "text": [
      "\n",
      "Elements of newly generated music with index=9:  {'note': 126, 'chord': 0, 'rest': 24}\n",
      "Created new MIDI file\n"
     ]
    },
    {
     "data": {
      "text/html": [
       "\n",
       "                <div id='midiPlayerDiv405126'></div>\n",
       "                <link rel=\"stylesheet\" href=\"//cuthbertLab.github.io/music21j/css/m21.css\"\n",
       "                    type=\"text/css\" />\n",
       "                <script>\n",
       "                require.config({\n",
       "                    paths: {'music21': '//cuthbertLab.github.io/music21j/src/music21'}\n",
       "                });\n",
       "                require(['music21'], function() {\n",
       "                               mp = new music21.miditools.MidiPlayer();\n",
       "                               mp.addPlayer('#midiPlayerDiv405126');\n",
       "                               mp.base64Load('data:audio/midi;base64,TVRoZAAAAAYAAQACBABNVHJrAAAAFAD/UQMHoSAA/1gEBAIYCIgA/y8ATVRyawAABBUA/wMAAOAAQIoAkE5aggCATgAAkDtaggCAOwAAkDtaggCAOwAAkDtaggCAOwCSAJA/WoIAgD8AkACQQVqCAIBBAJoAkD9aAJA/WgCQP1oAkEFaAJA/WoIAgD8AAIA/AACAPwAAgD8AAJBBWgCQNVoAkD9aggCAQQAAgEEAAIA/AIIAgDUAAJA/WgCQN1qCAIA/AIIAkD5ahACANwAAkD5aAJA/WgCQOVoAkD9aAJA/WoIAgD8AAIA/AACAPwAAkFRaAJA/WoIAgD4AAIA5AACAVAAAgD8AAJBUWgCQP1qCAIBUAACAPwAAkEFaAJA/WgCQP1oAkD9aAJA/WgCQP1oAkD9aAJA/WgCQP1oAkD9aAJA/WgCQP1oAkD9aggCAPgAAgEEAAIA/AACAPwAAgD8AAIA/AACAPwAAgD8AAIA/AACAPwAAgD8AAIA/AACAPwAAgD8AAJBBWoIAgEEAAJBBWgCQP1oAkD9aAJA/WgCQP1qCAIBBAACAPwAAgD8AAIA/AACAPwAAkEFaAJA/WoIAgEEAAIA/AACQQVoAkD9aAJA/WgCQP1oAkD9aAJA/WgCQP1oAkD9aAJA/WgCQP1oAkD9aAJA/WgCQP1oAkD9aAJA/WgCQP1oAkD9aAJA/WgCQP1oAkD9aAJA/WgCQP1oAkD9aAJA/WgCQP1oAkD9aAJA/WgCQP1oAkD9aAJA/WgCQP1oAkD9aAJA/WgCQP1oAkD9aAJA/WgCQP1oAkD9aAJA/WgCQP1oAkD9aAJA/WgCQP1oAkD9aAJA/WgCQP1oAkD9aAJA/WgCQP1oAkD9aAJA/WgCQP1oAkD9aAJA/WgCQP1oAkD9aAJA/WgCQP1oAkD9aAJA/WgCQP1oAkD9aAJA/WgCQP1oAkD9aAJA/WgCQP1oAkD9aAJA/WgCQP1oAkD9aAJA/WgCQP1oAkD9aAJA/WgCQP1oAkD9aAJA/WgCQP1qCAIBBAACAPwAAgD8AAIA/AACAPwAAgD8AAIA/AACAPwAAgD8AAIA/AACAPwAAgD8AAIA/AACAPwAAgD8AAIA/AACAPwAAgD8AAIA/AACAPwAAgD8AAIA/AACAPwAAgD8AAIA/AACAPwAAgD8AAIA/AACAPwAAgD8AAIA/AACAPwAAgD8AAIA/AACAPwAAgD8AAIA/AACAPwAAgD8AAIA/AACAPwAAgD8AAIA/AACAPwAAgD8AAIA/AACAPwAAgD8AAIA/AACAPwAAgD8AAIA/AACAPwAAgD8AAIA/AACAPwAAgD8AAIA/AACAPwAAgD8AAIA/AACAPwAAgD8AAIA/AACAPwAAgD8AAIA/AACAPwAAgD8AAIA/AACAPwAAgD8AAIA/AACAPwAAgD8AAIA/AACAPwAAgD8AAIA/AIgA/y8A');\n",
       "                        });\n",
       "                </script>"
      ],
      "text/plain": [
       "<IPython.core.display.HTML object>"
      ]
     },
     "metadata": {},
     "output_type": "display_data"
    },
    {
     "name": "stdout",
     "output_type": "stream",
     "text": [
      "\n",
      "Elements of newly generated music with index=10:  {'note': 126, 'chord': 0, 'rest': 24}\n",
      "Created new MIDI file\n"
     ]
    },
    {
     "data": {
      "text/html": [
       "\n",
       "                <div id='midiPlayerDiv406493'></div>\n",
       "                <link rel=\"stylesheet\" href=\"//cuthbertLab.github.io/music21j/css/m21.css\"\n",
       "                    type=\"text/css\" />\n",
       "                <script>\n",
       "                require.config({\n",
       "                    paths: {'music21': '//cuthbertLab.github.io/music21j/src/music21'}\n",
       "                });\n",
       "                require(['music21'], function() {\n",
       "                               mp = new music21.miditools.MidiPlayer();\n",
       "                               mp.addPlayer('#midiPlayerDiv406493');\n",
       "                               mp.base64Load('data:audio/midi;base64,TVRoZAAAAAYAAQACBABNVHJrAAAAFAD/UQMHoSAA/1gEBAIYCIgA/y8ATVRyawAABEQA/wMAAOAAQIoAkExaggCATACEAJBBWoIAgEEAAJBMWoIAgEwAmgCQO1qCAIA7AIwAkEFaggCAQQCMAJA/WoIAgD8AhgCQM1qCAIAzAIIAkD9aAJA/WgCQP1oAkD9aAJA/WgCQP1oAkD9aAJA/WgCQP1oAkD9aAJA/WgCQP1qCAIA/AACAPwAAgD8AAIA/AACAPwAAgD8AAIA/AACAPwAAgD8AAIA/AACAPwAAgD8AggCQP1oAkD9aAJA/WgCQP1oAkD9aAJA/WgCQP1qCAIA/AACAPwAAgD8AAIA/AACAPwAAgD8AAIA/AIIAkExaAJA/WoIAgD8AggCATAAAkExahACATABVkExahACATAAAkEZaAJA1WoQAgEYAAIA1AACQRloAkDtaggCAOwCCAIBGAACQRlqCAJA7WgCQNVqCAIBGAACAOwAAkFRaAJBCWgCQNVqCAIA1AACAVAAAgEIAAJBBWoIAgDUAAIBBAACQQVoAkDVaggCAQQAAkEFaAJA1WoIAgDUAAIBBAACQVFoAkDVaggCANQAAgFQAAJBUWgCQNVoAkEJaAJA1WgCQNVqCAIA1AACAVAAAgEIAAJBBWgCQNVoAkDVaggCANQAAgDUAAIA1AACAQQAAkEFaAJA1WgCQNVqCAIA1AACANQAAgEEAAJBBWoIAgDUAAIA1AACAQQCCAJBRWgCQO1oAkDtaggCQQVoAkD9aggCAUQAAgDsAAIA7AACAQQAAgD8AAJBBWoIAgEEAAJA7WgCQPVoAkD9aAJA/WgCQP1oAkD9aAJA/WgCQP1oAkD9aAJA/WgCQP1oAkD9aAJA/WgCQP1oAkD9aAJA/WgCQP1oAkDdaAJA/WgCQP1oAkD9aAJA/WgCQP1qCAIA7AACAPQAAgD8AAIA/AACAPwAAgD8AAIA/AACAPwAAgD8AAIA/AACAPwAAgD8AAIA/AACAPwAAgD8AAIA/AACAPwAAgDcAAIA/AACAPwAAgD8AAIA/AACAPwAAkEFaAJA/WoIAgEEAAIA/AACQQVoAkD9aAJA/WgCQNVoAkDVaggCAQQAAgD8AAIA/AIIAgDUAAIA1AACQRloAkDtaggCAOwCCAIBGAACQRlqEAIBGAACQRlqEAIBGAACQRloAkDtaggCAOwCCAIBGAACQRloAkDVaggCQO1qCAIBGAACANQAAgDsAAJA7WoIAgDsAAJA7WoIAgDsAAJA7WgCQP1oAkD9aAJA/WgCQP1oAkD9aggCAOwAAgD8AAIA/AACAPwAAgD8AAIA/AACQP1oAkDlaggCAPwCCAIA5AACQS1qEAIBLAACQSFqEAIBIAACQS1qEAIBLAACQS1qCAJBGWoIAgEsAAIBGAIIAkEhaggCQR1qCAIBIAACARwAAkEdaggCARwAAkFFaggCAUQAAkFFaggCAUQCCAJBIWoIAkENaggCASAAAgEMAiAD/LwA=');\n",
       "                        });\n",
       "                </script>"
      ],
      "text/plain": [
       "<IPython.core.display.HTML object>"
      ]
     },
     "metadata": {},
     "output_type": "display_data"
    },
    {
     "name": "stdout",
     "output_type": "stream",
     "text": [
      "\n",
      "Elements of newly generated music with index=11:  {'note': 135, 'chord': 0, 'rest': 15}\n",
      "Created new MIDI file\n"
     ]
    },
    {
     "data": {
      "text/html": [
       "\n",
       "                <div id='midiPlayerDiv407860'></div>\n",
       "                <link rel=\"stylesheet\" href=\"//cuthbertLab.github.io/music21j/css/m21.css\"\n",
       "                    type=\"text/css\" />\n",
       "                <script>\n",
       "                require.config({\n",
       "                    paths: {'music21': '//cuthbertLab.github.io/music21j/src/music21'}\n",
       "                });\n",
       "                require(['music21'], function() {\n",
       "                               mp = new music21.miditools.MidiPlayer();\n",
       "                               mp.addPlayer('#midiPlayerDiv407860');\n",
       "                               mp.base64Load('data:audio/midi;base64,TVRoZAAAAAYAAQACBABNVHJrAAAAFAD/UQMHoSAA/1gEBAIYCIgA/y8ATVRyawAABJQA/wMAAOAAQIoAkE5aAJBCWgCQPFoAkEJaAJBAWgCQQFqCAIBOAACAQgAAgDwAAIBCAACAQACCAIBAAACQTFoAkEBaAJA+WgCQN1oAkD5aAJA/WgCQPloAkD9aAJA2WoIAgEAAAIA3AACAPwAAgD4AAIA/AACQQVoAkENaggCATAAAgD4AAIA+AACANgAAgEEAAIBDAIIAkENaAJA+WoIAgEMAhgCAPgCIAJA/WoIAgD8AhACQO1qCAIA7AACQO1qCAIA7AACQO1qCAIA7AACQO1qCAIA7AACQO1oAkDtaggCAOwAAkDtaggCAOwAAgDsAAJBBWoIAgEEAAJBBWoIAgEEAAJBWWgCQOVoAkD9aAJA5WgCQP1oAkDlaAJA/WgCQOVoAkD9aAJA5WgCQOVqCAIBWAACAPwAAgD8AAIA/AACAPwAAkEFaAJA/WoIAgDkAAIA5AACAOQAAgDkAAIA5AACAOQAAgEEAAIA/AACQQVoAkD9aAJA/WgCQOVoAkD9aAJA/WgCQP1oAkDlaAJA/WgCQP1oAkDVaAJA/WoIAgEEAAIA/AACAPwAAgD8AAIA/AACAPwAAgD8AAIA/AACAPwAAkEFaAJA1WgCQP1oAkD9aAJA/WoIAgDkAAIA5AACANQAAgEEAAIA/AACAPwAAgD8AggCANQAAkD9aAJA/WgCQP1qCAIA/AACAPwAAgD8AAJA3WgCQP1qCAIA3AACAPwAAkEFaggCAQQAAkDdaAJA/WgCQP1qCAIA3AACAPwAAgD8AAJBBWgCQP1oAkD9aAJA/WgCQP1oAkD9aAJA/WgCQN1oAkD9aAJA/WgCQP1oAkD9aAJA/WgCQP1qCAIBBAACAPwAAgD8AAIA/AACAPwAAgD8AAIA/AACANwAAgD8AAIA/AACAPwAAgD8AAIA/AACAPwCCAJBGWgCQOVqCAIA5AIIAgEYAAJBGWgCQOVqCAIA5AIIAgEYAAJBGWoQAgEYAVZBGWoQAgEYAAJBGWoQAgEYAAJBGWoQAgEYAAJBGWoIAkExaggCARgAAgEwAAJBBWoIAgEEAAJBMWoIAgEwAAJBBWoIAgEEAAJBMWoIAgEwAAJBBWoIAgEEAggCQRlqCAJBBWoIAgEYAAIBBAIIAkEZaggCQQVqCAIBGAACAQQCCAJBGWoIAkEFaggCARgAAgEEAggCQRlqCAJBBWoIAgEYAAIBBAIIAkEZaVpA5WoIAgDkAgSqARgBWkEZaAJBCWgCQQlqCAIBCAACAQgCCAIBGAACQTFoAkDVaggCQQVqCAIBMAACANQAAgEEAAJBBWgCQNVoAkDlaAJA5WgCQNVqCAIBBAACAOQAAgDkAAJA7WgCQNVqCAIA1AACANQAAgDsAggCANQAAkD5aggCQO1oAkDVaggCAOwAAkDtaggCANQAAgDsAAJA7WoIAgD4AAIA7AACQO1qCAIA7AACQO1qCAIA7AACQO1qCAIA7AIoAkD5aAJA/WgCQPloAkD9aAJA/WoIAgD8AggCAPwAAgD8AAJA/WoIAkEFaggCAPgAAgD4AAIA/AACAQQCIAP8vAA==');\n",
       "                        });\n",
       "                </script>"
      ],
      "text/plain": [
       "<IPython.core.display.HTML object>"
      ]
     },
     "metadata": {},
     "output_type": "display_data"
    },
    {
     "name": "stdout",
     "output_type": "stream",
     "text": [
      "\n",
      "Elements of newly generated music with index=12:  {'note': 137, 'chord': 0, 'rest': 13}\n",
      "Created new MIDI file\n"
     ]
    },
    {
     "data": {
      "text/html": [
       "\n",
       "                <div id='midiPlayerDiv409227'></div>\n",
       "                <link rel=\"stylesheet\" href=\"//cuthbertLab.github.io/music21j/css/m21.css\"\n",
       "                    type=\"text/css\" />\n",
       "                <script>\n",
       "                require.config({\n",
       "                    paths: {'music21': '//cuthbertLab.github.io/music21j/src/music21'}\n",
       "                });\n",
       "                require(['music21'], function() {\n",
       "                               mp = new music21.miditools.MidiPlayer();\n",
       "                               mp.addPlayer('#midiPlayerDiv409227');\n",
       "                               mp.base64Load('data:audio/midi;base64,TVRoZAAAAAYAAQACBABNVHJrAAAAFAD/UQMHoSAA/1gEBAIYCIgA/y8ATVRyawAABKMA/wMAAOAAQIoAkExaggCATACCAJBDWoIAkE5aggCAQwAAgE4AggCQQ1qEAIBDAFWQQ1oAkDtaggCAOwCCAIBDAACQQ1qCAJBNWoIAgEMAAIBNAIIAkENahACAQwAAkENaggCQTVqCAIBDAACATQCCAJBDWgCQP1qCAIA/AIIAgEMAAJBDWoIAkE1aggCAQwAAgE0AggCQQ1oAkD9aAJA/WoIAgD8AAIA/AACQRloAkENaAJA+WoIAgEMAAIBGAACQTVoAkENaAJA/WoIAgEMAAIBNAACAPwAAkDxaggCAQwAAgDwAAJA8WgCQP1qCAIA+AACAPAAAgD8AAJBBWgCQP1oAkD5aggCAQQAAgD8AAJBBWgCQNlqCAIBBAIIAgDYAAJBAWoIAgD4AAIBAAACQQVoAkEBaggCAQQAAgEAAAJBBWoIAgEEAAJBBWoIAgEEAAJBBWoIAgEEAAJBMWoIAgEwAAJBKWoIAgEoAAJBMWoIAgEwAAJBBWoIAgEEAAJBBWoIAgEEAAJBBWgCQP1oAkD9aggCAQQAAgD8AAIA/AIYAkD5ahACAPgAAkD5ahACAPgAAkDdaAJA3WgCQN1oAkDdaAJA3WgCQP1qCAIA/AIIAgDcAAIA3AACANwAAgDcAAIA3AACQP1oAkDlaAJA/WgCQOVoAkD9aAJA5WgCQP1oAkD9aAJA/WgCQN1oAkD9aggCAPwAAgD8AAIA/AACAPwAAgD8AAIA/AACAPwAAkEFaggCAOQAAgDkAAIA5AACAQQCCAJA/WgCQP1oAkD9aAJA/WgCQOVoAkD9aAJA5WgCQP1qCAIA3AACAPwAAgD8AAIA/AACAPwAAgD8AAIA/AACQQVoAkD9aggCAOQAAgDkAAIBBAACAPwAAkEFaAJA/WgCQP1oAkDlaAJA/WgCQOVoAkD9aAJA5WgCQP1qCAIBBAACAPwAAgD8AAIA/AACAPwAAgD8AAJBBWgCQP1qCAIA5AACAOQAAgDkAAIBBAACAPwAAkEFaAJA/WgCQP1oAkD9aggCAQQAAgD8AAIA/AACAPwAAkEZaAJA/WoIAgEYAAIA/AACQRloAkD9aAJA5WgCQP1qCAIBGAACAPwAAgD8AAJBGWgCQP1oAkDlaAJA/WgCQOVoAkD9aAJA5WgCQP1qCAIA5AACARgAAgD8AAIA/AACAPwAAgD8AAJBGWgCQP1oAkD9aAJA/WgCQP1oAkD9aAJA/WgCQP1oAkD9aAJA/WgCQP1oAkD9aggCAOQAAgDkAAIA5AACARgAAgD8AAIA/AACAPwAAgD8AAIA/AACAPwAAgD8AAIA/AACAPwAAgD8AAIA/AACQQVqCAIBBAACQQVqCAIBBAACQQVqCAIBBAACQQVqCAIBBAIIAkEhaAJA/WoIAgD8AAJBBWoIAgEgAAIBBAIIAkENaAJA/WoIAgD8AAJBBWoIAgEMAAIBBAACQTFqCAIBMAACQR1qCAIBHAACQTlqCAIBOAACQQVqCAIBBAIJWkE1aAJA7WoIAgDsAAJBBWoIAgE0AAIBBAACQSVqCAIBJAACQO1qCAIA7AIIAkD9aggCAPwCIAP8vAA==');\n",
       "                        });\n",
       "                </script>"
      ],
      "text/plain": [
       "<IPython.core.display.HTML object>"
      ]
     },
     "metadata": {},
     "output_type": "display_data"
    },
    {
     "name": "stdout",
     "output_type": "stream",
     "text": [
      "\n",
      "Elements of newly generated music with index=13:  {'note': 121, 'chord': 0, 'rest': 29}\n",
      "Created new MIDI file\n"
     ]
    },
    {
     "data": {
      "text/html": [
       "\n",
       "                <div id='midiPlayerDiv410594'></div>\n",
       "                <link rel=\"stylesheet\" href=\"//cuthbertLab.github.io/music21j/css/m21.css\"\n",
       "                    type=\"text/css\" />\n",
       "                <script>\n",
       "                require.config({\n",
       "                    paths: {'music21': '//cuthbertLab.github.io/music21j/src/music21'}\n",
       "                });\n",
       "                require(['music21'], function() {\n",
       "                               mp = new music21.miditools.MidiPlayer();\n",
       "                               mp.addPlayer('#midiPlayerDiv410594');\n",
       "                               mp.base64Load('data:audio/midi;base64,TVRoZAAAAAYAAQACBABNVHJrAAAAFAD/UQMHoSAA/1gEBAIYCIgA/y8ATVRyawAABEcA/wMAAOAAQIoAkE5aggCATgCCAJBIWgCQNFoAkDRaggCQTFoAkD9aggCASAAAgDQAAIA0AACATAAAgD8AAJBLWoIAgEsAggCQTVoAkD9aggCAPwAAkEtaggCATQAAgEsAAJBLWoIAgEsAggCQTVoAkD9aggCAPwAAkEtaggCATQAAgEsAAJBOWgCQP1qCAIBOAACAPwAAkEtaggCASwCCAJBGWoQAgEYAAJBNWgCQOVqCAIA5AIIAgE0AAJBIWoQAgEgAggCQTVqEAIBNAACQTVoAkD9aggCAPwAAkEtaAJA1WgCQQlqCAIBNAACASwAAgEIAAJBNWoIAgDUAAIBNAIIAkE1ahACATQAAkE1ahACATQAAkDVahACANQAAkEhaAJBCWoIAgEIAAJBLWgCQNVqCAIBIAACASwCCAIA1AACQSFoAkEJaggCAQgAAkE1aAJA/WoIAgEgAAIBNAIIAgD8AAJBIWgCQQlqCAIBCAACQTVoAkDRaggCASAAAgE0AggCANAAAkEhahACASACCAJBIWgCQQlqCAIBCAIIAgEgAAJBIWgCQQlqCAIBCAACQS1oAkEJaggCASAAAgEsAAIBCAIIAkEhaAJA1WoQAgEgAAIA1AACQSFoAkEJaggCAQgAAkE1aAJA1WoIAgEgAAIBNAIIAgDUAAJBIWgCQO1qCAIA7AACQS1qCAIBIAACASwCQAJA/WoIAkD5aggCAPwAAgD4AAJA7WoIAgDsAAJBLWoIAgEsAggCQSFqEAIBIAACQP1qCAIA/AIIAkEhaAJA/WoIAgD8AggCASAAAkEhaAJBCWoIAgEIAggCASAAAkEhaAJBCWoIAgEIAggCASAAAkEhaAJBCWoIAgEIAggCASAAAkE1aAJA/WoIAgD8AggCATQAAkEhaAJA/WoIAgD8AAJBLWgCQP1qCAIBIAACASwAAgD8AAJBLWgCQP1qCAIBLAACAPwCCAJBFWgCQP1qCAIA/AIIAgEUAAJBIWgCQNVqEAIBIAACANQAAkEhaAJA5WoIAgDkAAJBLWoIAgEgAAIBLAIIAkE1aggCQPlqCAIBNAACAPgCCAJBNWoQAgE0AAJA+WoIAgD4AggCQSFqCAJA+WoIAgEgAAIA+AIIAkEhaggCQPloAkEJaggCASAAAgD4AAIBCAIIAkEhaAJBCWoIAgEIAggCASAAAkEhaAJBCWoIAgEIAggCASAAAkEhaAJBCWoIAgEIAggCASAAAkEhaAJA/WoIAgD8AggCASAAAkEhaAJBCWoIAgEIAggCASAAAkEhaAJA/WoIAgD8AggCASAAAkEhaAJA/WoIAgD8AggCASAAAkEhaAJA/WoIAgD8AggCASAAAkEhaAJA1WoQAgEgAAIA1AACQQ1oAkDlaggCAOQAAkEtaggCAQwAAgEsAggCQTVoAkD9aggCQPlqCAIBNAACAPwAAgD4AiAD/LwA=');\n",
       "                        });\n",
       "                </script>"
      ],
      "text/plain": [
       "<IPython.core.display.HTML object>"
      ]
     },
     "metadata": {},
     "output_type": "display_data"
    },
    {
     "name": "stdout",
     "output_type": "stream",
     "text": [
      "\n",
      "Elements of newly generated music with index=14:  {'note': 129, 'chord': 0, 'rest': 21}\n",
      "Created new MIDI file\n"
     ]
    },
    {
     "data": {
      "text/html": [
       "\n",
       "                <div id='midiPlayerDiv411961'></div>\n",
       "                <link rel=\"stylesheet\" href=\"//cuthbertLab.github.io/music21j/css/m21.css\"\n",
       "                    type=\"text/css\" />\n",
       "                <script>\n",
       "                require.config({\n",
       "                    paths: {'music21': '//cuthbertLab.github.io/music21j/src/music21'}\n",
       "                });\n",
       "                require(['music21'], function() {\n",
       "                               mp = new music21.miditools.MidiPlayer();\n",
       "                               mp.addPlayer('#midiPlayerDiv411961');\n",
       "                               mp.base64Load('data:audio/midi;base64,TVRoZAAAAAYAAQACBABNVHJrAAAAFAD/UQMHoSAA/1gEBAIYCIgA/y8ATVRyawAABFIA/wMAAOAAQIoAkExaAJA/WgCQOFoAkEJaggCATAAAgD8AAIBCAIIAgDgAAJBIWgCQP1oAkD9aAJA/WgCQP1oAkD9aAJA/WoIAgD8AAIA/AACAPwAAgD8AAIA/AACAPwAAkEFaggCASAAAgEEAAJBBWoIAgEEAAJBBWoIAgEEAAJBBWoIAgEEAAJBBWoIAgEEAAJBBWgCQOVoAkDlaAJA5WgCQP1oAkDlaAJA/WgCQP1qCAIBBAACAPwAAgD8AAIA/AACQQVoAkD9aAJA/WgCQP1oAkDlaAJA/WgCQNVoAkENaAJA/WgCQO1oAkD9aAJA/WgCQP1qCAIA5AACAOQAAgDkAAIA5AACAQQAAgD8AAIA/AACAPwAAgD8AAIBDAACAPwAAgD8AAIA/AACAPwAAkDtaAJA/WgCQP1qCAIA5AACANQAAgDsAAIA7AACAPwAAgD8AAJBBWgCQOVoAkD9aggCAQQAAgD8AAJBBWgCQP1qCAIA5AACAQQAAgD8AAJBBWgCQP1qCAIBBAACAPwAAkEFaAJA5WgCQP1oAkDlaAJA/WgCQOVoAkD9aAJA5WgCQOVoAkDdaAJA3WoIAgEEAAIA/AACAPwAAgD8AAJBIWgCQPlqCAIA5AACAOQAAgDkAAIA5AACAOQAAgEgAhACANwAAgDcAggCAPgAAkD9aAJA4WoIAgD8AAJBMWoIAgDgAAIBMAIQAkE5aAJA/WoIAgE4AAIA/AIIAkEFaggCAQQCGAJA/WoIAgD8AAJBBWgCQP1oAkD9aAJA/WoIAgEEAAIA/AACAPwAAgD8AAJBBWoIAgEEAAJA/WoIAgD8AAJBBWoIAgEEAggCQTVoAkD9aggCAPwAAkEFaAJA1WoIAgE0AAIBBAACQP1qCAIA1AACAPwAAkEFaAJBCWoIAgEEAAIBCAIIAkEhaAJA/WoIAgD8AAJBBWgCQP1oAkD9aggCASAAAgEEAAIA/AACAPwAAkEFaAJA/WoIAgEEAAIA/AIIAkD9aggCAPwCKAJA+WgCQPlqCAJA6WgCQPloAkD9aggCAPgAAgD4AAIA6AACAPwAAkEFaAJA/WoIAgD4AAIBBAACAPwAAkEFaggCAQQAAkEFaggCAQQAAkFJaAJA/WgCQP1qCAIBSAACAPwAAgD8AAJBBWgCQP1qCAIBBAACAPwAAkEFaAJA/WoIAgEEAAIA/AACQS1qCAIBLAIIAkExahACATAAAkEFaAJA+WgCQPlqEAIBBAIQAgD4AAIA+AACQTFqEAIBMAACQTFoAkD9aAJA/WgCQP1oAkD9aAJA/WgCQP1oAkDtaAJA/WoIAgD8AAIA/AACAPwAAgD8AAIA/AACAPwAAgD8AAJBBWgCQP1oAkD9aAJA/WgCQP1qCAIBMAACAOwAAgEEAAIA/AACAPwAAgD8AAIA/AACQQVoAkD9aggCAQQAAgD8AAJBBWgCQP1qCAIBBAACAPwCIAP8vAA==');\n",
       "                        });\n",
       "                </script>"
      ],
      "text/plain": [
       "<IPython.core.display.HTML object>"
      ]
     },
     "metadata": {},
     "output_type": "display_data"
    },
    {
     "name": "stdout",
     "output_type": "stream",
     "text": [
      "\n",
      "Elements of newly generated music with index=15:  {'note': 132, 'chord': 0, 'rest': 18}\n",
      "Created new MIDI file\n"
     ]
    },
    {
     "data": {
      "text/html": [
       "\n",
       "                <div id='midiPlayerDiv413328'></div>\n",
       "                <link rel=\"stylesheet\" href=\"//cuthbertLab.github.io/music21j/css/m21.css\"\n",
       "                    type=\"text/css\" />\n",
       "                <script>\n",
       "                require.config({\n",
       "                    paths: {'music21': '//cuthbertLab.github.io/music21j/src/music21'}\n",
       "                });\n",
       "                require(['music21'], function() {\n",
       "                               mp = new music21.miditools.MidiPlayer();\n",
       "                               mp.addPlayer('#midiPlayerDiv413328');\n",
       "                               mp.base64Load('data:audio/midi;base64,TVRoZAAAAAYAAQACBABNVHJrAAAAFAD/UQMHoSAA/1gEBAIYCIgA/y8ATVRyawAABKsA/wMAAOAAQIoAkExaAJA9WgCQOVqCAIBMAACAPQAAgDkAAJBLWgCQPVoAkD9aAJA/WoIAgEsAAIA/AIIAgD0AAIA/AJwAkDtaggCAOwCCAJBIWoQAgEgAAJBGWgCQOVqCAIA5AIIAgEYAAJBIWoQAgEgAAJBIWgCQP1oAkDhaAJA5WoIAgDgAAIA5AIIAgEgAAIA/AACQSFqEAIBIAACQTVqEAIBNAACQSFqEAIBIAACQSFqEAIBIAACQSFqEAIBIAACQSFqEAIBIAACQSFqEAIBIAACQSFoAkEJaggCAQgAAkEtaggCASAAAgEsAAJBMWoIAgEwAggCQSFoAkEJaggCAQgAAkEtaAJA1WoIAgEgAAIBLAIIAgDUAAJBIWgCQQlqCAIBCAIIAgEgAAJBIWgCQNFqEAIBIAACANAAAkEhaAJBCWgCQQlqCAIBCAACAQgCCAIBIAACQTVoAkD9aggCAPwAAkEJaggCATQAAgEIAAJBLWgCQQlqCAIBLAACAQgCCAJBIWgCQNVqEAIBIAACANQAAkEhahACASAAAkEZaggCQS1qCAIBGAACASwCCAJBGWoQAgEYAAJBNWoQAgE0AAJBGWoQAgEYAAJBNWoQAgE0AAJBGWoQAgEYAAJBGWoQAgEYAAJBNWoQAgE0AAJBGWoQAgEYAAJBNWoQAgE0AAJBGWoQAgEYAAJBNWoQAgE0AAJBGWoQAgEYAAJBNWoQAgE0AAJBGWoQAgEYAAJBNWoQAgE0AAJBGWoQAgEYAAJBNWoQAgE0AAJBGWoQAgEYAAJBNWoQAgE0AAJBGWoIAkEFaggCARgAAgEEAggCQRlqEAIBGAACQTVqEAIBNAACQRlqCAJBBWoIAgEYAAIBBAIIAkEZahACARgAAkE1ahACATQAAkEZaggCQQVqCAIBGAACAQQCCAJBGWoQAgEYAAJBGWoQAgEYAAJBGWoIAkEFaggCARgAAgEEAggCQRlqCAJBBWoIAgEYAAIBBAJAAkEFaggCAQQCCAJBGWoIAkE9aggCARgAAgE8AAJBBWoIAgEEAAJBMWoIAgEwAggCQRVqEAIBFAI5VkE9aggCATwCCVpBGWoJVkE9agSuARgBVgE8AVZBMWgCQOVoAkEBaggCATAAAgDkAAIBAAIIAkEZaggCQQVqCAIBGAACAQQAAkE5aggCATgAAkEFaAJA7WoIAgEEAAIA7AIYAkEZaggCQQVqCAIBGAACAQQBWkEFaAJA5WoIAgEEAAIA5AACQQVoAkEJaggCAQQAAgEIAlFWQM1qCAIAzAACQQVoAkDtaggCAQQAAgDsAAJBBWoIAgEEAggCQRloAkDVaAJA5WgCQOVoAkEJaAJBCWgCQQlqCAIA5AACAOQAAgEIAAIBCAACAQgCCAIBGAACANQAAkEZaAJA7WoIAgDsAAJBBWoIAgEYAAIBBAIIAkEZaggCQQVqCAIBGAACAQQCCAJBGWoIAkEFaAJBCWoIAgEYAAIBBAACAQgBVkEFaAJA1WgCQP1qCAIBBAACAPwCCAIA1AIQAkEZaAJA/WgCQP1qCAIA/AACAPwCCAIBGAACQRlqEAIBGAIgA/y8A');\n",
       "                        });\n",
       "                </script>"
      ],
      "text/plain": [
       "<IPython.core.display.HTML object>"
      ]
     },
     "metadata": {},
     "output_type": "display_data"
    },
    {
     "name": "stdout",
     "output_type": "stream",
     "text": [
      "\n",
      "Elements of newly generated music with index=16:  {'note': 150, 'chord': 0, 'rest': 0}\n",
      "Created new MIDI file\n"
     ]
    },
    {
     "data": {
      "text/html": [
       "\n",
       "                <div id='midiPlayerDiv414695'></div>\n",
       "                <link rel=\"stylesheet\" href=\"//cuthbertLab.github.io/music21j/css/m21.css\"\n",
       "                    type=\"text/css\" />\n",
       "                <script>\n",
       "                require.config({\n",
       "                    paths: {'music21': '//cuthbertLab.github.io/music21j/src/music21'}\n",
       "                });\n",
       "                require(['music21'], function() {\n",
       "                               mp = new music21.miditools.MidiPlayer();\n",
       "                               mp.addPlayer('#midiPlayerDiv414695');\n",
       "                               mp.base64Load('data:audio/midi;base64,TVRoZAAAAAYAAQACBABNVHJrAAAAFAD/UQMHoSAA/1gEBAIYCIgA/y8ATVRyawAABL8A/wMAAOAAQIoAkE5aAJAzWgCQM1oAkDNaAJAzWgCQM1oAkDNaAJAzWgCQM1oAkDNaAJAzWgCQM1oAkDNaAJAzWgCQM1oAkDNaAJAzWgCQM1oAkDNaAJAzWgCQM1oAkDNaAJAzWgCQM1oAkDNaAJAzWgCQM1oAkDNaAJAzWgCQM1oAkDNaAJAzWgCQM1oAkDNaAJAzWgCQM1oAkDNaAJAzWgCQM1oAkDNaAJAzWgCQM1oAkDNaAJAzWgCQM1oAkDNaAJAzWgCQM1oAkDNaAJAzWgCQM1oAkDNaAJAzWgCQM1oAkDNaAJAzWgCQM1oAkDNaAJAzWgCQM1oAkDNaAJAzWgCQM1oAkDNaAJAzWgCQM1oAkDNaAJAzWgCQM1oAkDNaAJAzWgCQM1oAkDNaAJAzWgCQM1oAkDNaAJAzWgCQM1oAkDNaAJAzWgCQM1oAkDNaAJAzWgCQM1oAkDNaAJAzWgCQM1oAkDNaAJAzWgCQM1oAkDNaAJAzWgCQM1oAkDNaAJAzWgCQM1oAkDNaAJAzWgCQM1oAkDNaAJAzWgCQM1oAkDNaAJAzWgCQM1oAkDNaAJAzWgCQM1oAkDNaAJAzWgCQM1oAkDNaAJAzWgCQM1oAkDNaAJAzWgCQM1oAkDNaAJAzWgCQM1oAkDNaAJAzWgCQM1oAkDNaAJAzWgCQM1oAkDNaAJAzWgCQM1oAkDNaAJAzWgCQM1oAkDNaAJAzWgCQM1oAkDNaAJAzWgCQM1oAkDNaAJAzWgCQM1oAkDNaAJAzWgCQM1oAkDNaAJAzWgCQM1oAkDNaAJAzWgCQM1qCAIBOAACAMwAAgDMAAIAzAACAMwAAgDMAAIAzAACAMwAAgDMAAIAzAACAMwAAgDMAAIAzAACAMwAAgDMAAIAzAACAMwAAgDMAAIAzAACAMwAAgDMAAIAzAACAMwAAgDMAAIAzAACAMwAAgDMAAIAzAACAMwAAgDMAAIAzAACAMwAAgDMAAIAzAACAMwAAgDMAAIAzAACAMwAAgDMAAIAzAACAMwAAgDMAAIAzAACAMwAAgDMAAIAzAACAMwAAgDMAAIAzAACAMwAAgDMAAIAzAACAMwAAgDMAAIAzAACAMwAAgDMAAIAzAACAMwAAgDMAAIAzAACAMwAAgDMAAIAzAACAMwAAgDMAAIAzAACAMwAAgDMAAIAzAACAMwAAgDMAAIAzAACAMwAAgDMAAIAzAACAMwAAgDMAAIAzAACAMwAAgDMAAIAzAACAMwAAgDMAAIAzAACAMwAAgDMAAIAzAACAMwAAgDMAAIAzAACAMwAAgDMAAIAzAACAMwAAgDMAAIAzAACAMwAAgDMAAIAzAACAMwAAgDMAAIAzAACAMwAAgDMAAIAzAACAMwAAgDMAAIAzAACAMwAAgDMAAIAzAACAMwAAgDMAAIAzAACAMwAAgDMAAIAzAACAMwAAgDMAAIAzAACAMwAAgDMAAIAzAACAMwAAgDMAAIAzAACAMwAAgDMAAIAzAACAMwAAgDMAAIAzAACAMwAAgDMAAIAzAACAMwAAgDMAAIAzAACAMwAAgDMAAIAzAACAMwAAgDMAAIAzAACAMwAAgDMAAIAzAACAMwAAgDMAiAD/LwA=');\n",
       "                        });\n",
       "                </script>"
      ],
      "text/plain": [
       "<IPython.core.display.HTML object>"
      ]
     },
     "metadata": {},
     "output_type": "display_data"
    },
    {
     "name": "stdout",
     "output_type": "stream",
     "text": [
      "\n",
      "Elements of newly generated music with index=17:  {'note': 135, 'chord': 0, 'rest': 15}\n",
      "Created new MIDI file\n"
     ]
    },
    {
     "data": {
      "text/html": [
       "\n",
       "                <div id='midiPlayerDiv416062'></div>\n",
       "                <link rel=\"stylesheet\" href=\"//cuthbertLab.github.io/music21j/css/m21.css\"\n",
       "                    type=\"text/css\" />\n",
       "                <script>\n",
       "                require.config({\n",
       "                    paths: {'music21': '//cuthbertLab.github.io/music21j/src/music21'}\n",
       "                });\n",
       "                require(['music21'], function() {\n",
       "                               mp = new music21.miditools.MidiPlayer();\n",
       "                               mp.addPlayer('#midiPlayerDiv416062');\n",
       "                               mp.base64Load('data:audio/midi;base64,TVRoZAAAAAYAAQACBABNVHJrAAAAFAD/UQMHoSAA/1gEBAIYCIgA/y8ATVRyawAABJgA/wMAAOAAQIoAkExaggCATAAAkE5aggCATgCCAJBGWoIAkENaVZA9WgCQPVoAkDRagSuARgAAgEMAVYA9AACAPQCCAIA0AACQTFqEAIBMAACQTFqEAIBMAACQRloAkDlaggCAOQAAkFJaAJBCWgCQQloAkD9aggCARgAAgFIAAIBCAACAQgAAgD8AggCQRloAkD9aggCAPwAAkEFaAJA7WoIAgEYAAIBBAACAOwCCAJBGWgCQO1oAkDtaAJA7WoIAgDsAAIA7AACAOwAAkEFaggCARgAAgEEAhACQQVqCAIBBAACQQ1qCAIBDAIIAkEZaAJBCWlaQO1qBKoBCAFaAOwAAkEFagSqARgBWgEEAAJBDWoIAgEMAAJBDWgCQO1qCAIBDAACAOwAAkExaggCATAAAkDdaggCANwBVkEFaggCAQQAAkENaggCAQwAAkEFaggCAQQCGAJBGWoIAkEFaAJA1WgCQOVoAkEJaAJBCWgCQQlpVkEBaVpA5WlWARgAAgEEAAIA5AACAQgAAgEIAAIBCAFWAQAAAkDtaVoA5AFWANQBVgDsAAJBBWoIAgEEAVpBBWgCQOVqCAIBBAACAOQCCAJBIWoQAgEgAAJBGWoIAkEFaAJA5WoIAgEYAAIBBAACAOQAAkENaggCAQwAAkEFaggCAQQAAkEFaggCAQQCCAJBIWoIAkEFaggCASAAAgEEAAJBBWgCQOVqCAIBBAACAOQCCAJBIWgCQO1qCAIA7AACQQVoAkD9aggCASAAAgEEAggCAPwAAkEhaggCQQVqCAIBIAACAQQAAkEFaggCAQQAAkEFaggCAQQAAkEFaggCAQQCCAJBIWoIAkEFaggCASAAAgEEAAJBBWoIAgEEAAJBBWgCQO1oAkD9aAJA/WoIAgEEAAIA7AACAPwAAgD8AAJBBWgCQP1oAkD9aAJA/WoIAgEEAAIA/AACAPwAAgD8AAJBBWoIAgEEAAJBHWgCQP1qCAIBHAACAPwAAkEVaggCARQAAkEFaAJA/WgCQP1oAkD9aAJA/WgCQP1oAkD9aAJA/WgCQP1oAkD9aggCAQQAAgD8AAIA/AACAPwAAgD8AAIA/AACAPwAAgD8AAIA/AACAPwCEAJBGWoIAgEYAAJA7WoIAgDsAigCQP1oAkD9aAJA/WgCQP1oAkD9aAJA/WgCQP1oAkD9aAJA/WgCQP1oAkD9aAJA/WgCQP1oAkD9aggCAPwAAgD8AAIA/AACAPwAAgD8AAIA/AACAPwAAgD8AAIA/AACAPwAAgD8AAIA/AACAPwAAgD8AAJBBWoIAgEEAAJBBWoIAgEEAAJBBWgCQP1qCAIBBAACAPwAAkEFaAJA/WoIAgEEAAIA/AACQQVoAkD9aggCAQQAAgD8AAJBBWgCQP1qCAIBBAACAPwAAkEtaAJA/WoIAgEsAAIA/AACQQVoAkDVaAJA/WoIAgEEAAIA/AIIAgDUAAJBGWoIAkEFaggCARgAAgEEAggCQRlqCAJBBWgCQO1oAkDdaAJA/WgCQN1qCAIBGAACAQQAAgDsAAIA3AACAPwAAgDcAiAD/LwA=');\n",
       "                        });\n",
       "                </script>"
      ],
      "text/plain": [
       "<IPython.core.display.HTML object>"
      ]
     },
     "metadata": {},
     "output_type": "display_data"
    },
    {
     "name": "stdout",
     "output_type": "stream",
     "text": [
      "\n",
      "Elements of newly generated music with index=18:  {'note': 127, 'chord': 0, 'rest': 23}\n",
      "Created new MIDI file\n"
     ]
    },
    {
     "data": {
      "text/html": [
       "\n",
       "                <div id='midiPlayerDiv417429'></div>\n",
       "                <link rel=\"stylesheet\" href=\"//cuthbertLab.github.io/music21j/css/m21.css\"\n",
       "                    type=\"text/css\" />\n",
       "                <script>\n",
       "                require.config({\n",
       "                    paths: {'music21': '//cuthbertLab.github.io/music21j/src/music21'}\n",
       "                });\n",
       "                require(['music21'], function() {\n",
       "                               mp = new music21.miditools.MidiPlayer();\n",
       "                               mp.addPlayer('#midiPlayerDiv417429');\n",
       "                               mp.base64Load('data:audio/midi;base64,TVRoZAAAAAYAAQACBABNVHJrAAAAFAD/UQMHoSAA/1gEBAIYCIgA/y8ATVRyawAABGAA/wMAAOAAQIoAkE5aAJA/WoIAgE4AAIA/AACQS1qCAIBLAIIAkEZahACARgAAkE1ahACATQAAkEZahACARgAAkE1ahACATQAAkEZahACARgAAkE1aAJA5WoIAgDkAggCATQAAkE1aAJBCWoIAgEIAAJBLWoIAgE0AAIBLAIIAkEZahACARgAAkE1ahACATQAAkEZahACARgAAkEhaAJA5WoIAgDkAAJBLWgCQOVqCAIBIAACASwAAgDkAggCQTVqEAIBNAACQRlqEAIBGAACQTVoAkD9aggCAPwAAkEtaggCATQAAgEsAAJBMWoIAgEwAggCQTVoAkDlaAJBCWoIAgDkAAIBCAIIAgE0AAJBGWgCQP1qCAIA/AACQS1oAkDVaggCARgAAgEsAAJBBWgCQNVqCAIA1AACAQQCCAJBNWoQAgDUAAIBNAACQTVoAkEJaAJA/WgCQNVqCAIBCAACAPwCCAIBNAACANQAAkEhaAJA/WgCQP1qCAIA/AACAPwAAkENaAJA7WgCQO1qCAIBIAACAQwAAgDsAAIA7AACQQVqCAIBBAACQQVqCAIBBAKIAkD9aggCAPwCiAJBGWoIAkEFaAJA/WoIAgEYAAIBBAACQQVqCAIA/AACAQQCCAJBMWoIAkEFaAJA/WgCQP1qCAIBMAACAQQAAgD8AAIA/AIIAkEZaggCQQVpVkDlaAJBCWoErgEYAAIBBAFWAOQAAgEIAggCQRlqCAJBBWoIAgEYAAIBBAIIAkEZaggCQQVoAkD9aggCARgAAgEEAAIA/AIIAkEZaggCQQVqCAIBGAACAQQCBK5BBWgCQQlqCAIBBAACAQgBVkEFaggCAQQBWkEFaggCAQQAAkEFaggCAQQBVkEFaggCAQQCCAJBGWoIAkEFaggCARgAAgEEAAJBBWoIAgEEAAJBDWoIAgEMAAJBBWoIAgEEAjgCQNVoAkD9aggCAPwAAkE9aAJA/WgCQP1oAkD9aAJA/WoIAgE8AAIA/AACAPwAAgD8AAIA/AIQAgDUAggCQP1qCAIA/AI4AkD9aggCAPwCCAJA/WoIAgD8AAJBBWgCQNVqCAIBBAIIAgDUAAJBFWgCQP1oAkD9aAJBCWoIAgD8AAIA/AACAQgAAkEFaAJA/WgCQP1oAkD9aggCARQAAgEEAAIA/AACAPwAAgD8AAJBBWgCQOVoAkDlaAJA5WgCQOVoAkDlaAJA/WgCQP1oAkD9aggCAQQAAgD8AAIA/AACAPwAAkEFaAJA/WgCQP1oAkDlaAJA/WgCQOVoAkD9aAJA6WgCQP1qCAIA5AACAOQAAgDkAAIA5AACAOQAAgEEAAIA/AACAPwAAgD8AAIA/AACAPwAAkFRaAJA3WoIAgDkAAIA5AACAOgAAgFQAAJBBWgCQP1oAkD9aAJA/WgCQP1oAkD9aAJA/WgCQP1qCAIBBAACAPwAAgD8AAIA/AACAPwAAgD8AAIA/AACAPwCEAIA3AIgA/y8A');\n",
       "                        });\n",
       "                </script>"
      ],
      "text/plain": [
       "<IPython.core.display.HTML object>"
      ]
     },
     "metadata": {},
     "output_type": "display_data"
    },
    {
     "name": "stdout",
     "output_type": "stream",
     "text": [
      "\n",
      "Elements of newly generated music with index=19:  {'note': 139, 'chord': 0, 'rest': 11}\n",
      "Created new MIDI file\n"
     ]
    },
    {
     "data": {
      "text/html": [
       "\n",
       "                <div id='midiPlayerDiv418796'></div>\n",
       "                <link rel=\"stylesheet\" href=\"//cuthbertLab.github.io/music21j/css/m21.css\"\n",
       "                    type=\"text/css\" />\n",
       "                <script>\n",
       "                require.config({\n",
       "                    paths: {'music21': '//cuthbertLab.github.io/music21j/src/music21'}\n",
       "                });\n",
       "                require(['music21'], function() {\n",
       "                               mp = new music21.miditools.MidiPlayer();\n",
       "                               mp.addPlayer('#midiPlayerDiv418796');\n",
       "                               mp.base64Load('data:audio/midi;base64,TVRoZAAAAAYAAQACBABNVHJrAAAAFAD/UQMHoSAA/1gEBAIYCIgA/y8ATVRyawAABH0A/wMAAOAAQIoAkExaAJA+WoIAgEwAAJA6WgCQNloAkEFagSuQPlpVgD4AAIA6AIErkFRaAJA+WgCQPloAkENaAJBDWgCQQ1pVgDYAAIBBAIErgD4AAIBUAACAQwAAgEMAAIBDAACQOlqCAIA+AACAPgAAgDoAAJA6WoIAgDoAAJA6WgCQQ1oAkENaAJBDWgCQOloAkDpaAJA/WgCQQ1oAkD9aAJA/WlWQP1qBK4A6AACAQwAAgEMAAIBDAACAOgAAgDoAAIA/AACAQwAAgD8AAIA/AFWAPwAAkD9aAJBDWgCQP1oAkD9aggCAPwAAgEMAAIA/AACAPwAAkFVaAJA/WoIAgFUAAIA/AFWQQVqCAIBBAACQVVqCAIBVAACQVVpWkEJagSqAVQBWgEIAAJBJWoIAgEkAVZBBWoIAgEEAAJA7WoIAgDsAAJA7WoIAgDsAAJA7WgCQQ1oAkD5aAJA+WgCQPloAkD5aAJA+WgCQPloAkD5aAJA+WgCQPloAkD5aggCAOwAAkD9aAJA+WgCQPloAkD5aAJA/WgCQP1qCAIBDAACAPwAAgD8AAIA/AACQO1oAkDtaAJA/WgCQP1qCAIA7AACAPwAAgD8AAJBKWoIAgD4AAIA+AACAPgAAgD4AAIA+AACAPgAAgD4AAIA+AACAPgAAgD4AAIA7AACASgAAkDpaggCAPgAAgD4AAIA+AACAOgBVkEFaggCAQQAAkEFaVpA/WgCQP1oAkD9aAJA/WgCQP1oAkD9aAJA/WgCQP1oAkD9aAJA/WgCQP1oAkD9aAJA/WgCQP1oAkD9aAJA/WgCQP1oAkD9aAJA/WgCQP1oAkD9aAJA/WgCQP1oAkD9aAJA/WgCQP1oAkD9aAJA/WgCQP1oAkD9aAJA/WgCQP1oAkD9aAJA/WgCQP1oAkD9aAJA/WgCQP1oAkD9aAJA/WgCQP1oAkD9aAJA/WgCQP1oAkD9aAJA/WgCQP1oAkD9aAJA/WgCQP1oAkD9aAJA/WgCQP1oAkD9aAJA/WgCQP1oAkD9aAJA/WgCQP1oAkD9aAJA/WgCQP1oAkD9aAJA/WgCQP1oAkD9aAJA/WgCQP1oAkD9aAJA/WgCQP1oAkD9aAJA/WgCQP1qBKoBBAFaAPwAAgD8AAIA/AACAPwAAgD8AAIA/AACAPwAAgD8AAIA/AACAPwAAgD8AAIA/AACAPwAAgD8AAIA/AACAPwAAgD8AAIA/AACAPwAAgD8AAIA/AACAPwAAgD8AAIA/AACAPwAAgD8AAIA/AACAPwAAgD8AAIA/AACAPwAAgD8AAIA/AACAPwAAgD8AAIA/AACAPwAAgD8AAIA/AACAPwAAgD8AAIA/AACAPwAAgD8AAIA/AACAPwAAgD8AAIA/AACAPwAAgD8AAIA/AACAPwAAgD8AAIA/AACAPwAAgD8AAIA/AACAPwAAgD8AAIA/AACAPwAAgD8AAIA/AACAPwAAgD8AAIA/AACAPwAAgD8AAIA/AACAPwAAgD8AAIA/AACAPwAAgD8AiAD/LwA=');\n",
       "                        });\n",
       "                </script>"
      ],
      "text/plain": [
       "<IPython.core.display.HTML object>"
      ]
     },
     "metadata": {},
     "output_type": "display_data"
    },
    {
     "name": "stdout",
     "output_type": "stream",
     "text": [
      "Time: 293 s\n",
      "\n",
      "--- END ---\n",
      "\n"
     ]
    }
   ],
   "source": [
    "try:\n",
    "    start_time = time.time()\n",
    "    print('Num GPUs Available: ', len(tf.config.list_physical_devices('GPU')))\n",
    "\n",
    "    with open('config.json', 'r') as f:\n",
    "        config = json.load(f)\n",
    "\n",
    "    sequence_length = int(config[\"sequence_length\"])\n",
    "    midi_files_folder = 'midi_samples\\\\' + config[\"dataset_folder\"] + '\\\\'\n",
    "    cuts = int(config[\"cuts\"])\n",
    "    epochs = int(config[\"epochs\"])\n",
    "    batch_size = int(config[\"batch_size\"])\n",
    "    new_music_length = int(config[\"new_music_length\"])\n",
    "    tracks_to_generate = int(config[\"tracks_to_generate\"])\n",
    "    new_music_file_name = config[\"new_music_file_name\"]\n",
    "    model_training = config[\"training\"]\n",
    "\n",
    "    lstm_input, lstm_output, notes_to_int, pitch_names_len = parse_MIDI_init(midi_files_folder, sequence_length, cuts)\n",
    "    model = train_model_init(lstm_input, lstm_output, pitch_names_len, epochs, batch_size, model_training)\n",
    "\n",
    "    for i in range(tracks_to_generate):\n",
    "        generate_music_init(model, lstm_input, notes_to_int, new_music_length, i, new_music_file_name)\n",
    "\n",
    "    end_time = time.time()\n",
    "    print('Time:', int(end_time - start_time), 's')\n",
    "    print('\\n--- END ---\\n')\n",
    "    # model.summary()\n",
    "\n",
    "except OSError as e:\n",
    "    print('\\nERROR loading config file in main.py')\n",
    "    print(e)\n",
    "    quit()\n"
   ]
  }
 ],
 "metadata": {
  "kernelspec": {
   "display_name": "Python 3 (ipykernel)",
   "language": "python",
   "name": "python3"
  },
  "language_info": {
   "codemirror_mode": {
    "name": "ipython",
    "version": 3
   },
   "file_extension": ".py",
   "mimetype": "text/x-python",
   "name": "python",
   "nbconvert_exporter": "python",
   "pygments_lexer": "ipython3",
   "version": "3.9.0"
  }
 },
 "nbformat": 4,
 "nbformat_minor": 5
}
