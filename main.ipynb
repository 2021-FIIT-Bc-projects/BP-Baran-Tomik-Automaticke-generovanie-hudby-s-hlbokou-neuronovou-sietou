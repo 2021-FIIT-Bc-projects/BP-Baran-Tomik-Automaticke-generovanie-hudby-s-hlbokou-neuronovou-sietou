{
 "cells": [
  {
   "cell_type": "code",
   "execution_count": 1,
   "id": "50066701",
   "metadata": {},
   "outputs": [],
   "source": [
    "from music21 import converter, instrument, note, chord, stream, pitch\n",
    "import numpy as np\n",
    "from tensorflow.keras.models import Sequential\n",
    "from tensorflow.keras.layers import Dense, Dropout, LSTM  \n",
    "from keras.callbacks import ModelCheckpoint\n",
    "from keras.utils import np_utils"
   ]
  },
  {
   "cell_type": "code",
   "execution_count": null,
   "id": "cbe84a44",
   "metadata": {},
   "outputs": [],
   "source": []
  },
  {
   "cell_type": "code",
   "execution_count": 2,
   "id": "c508dfbd",
   "metadata": {},
   "outputs": [],
   "source": [
    "def parse_midi_file(midi_sample):\n",
    "\n",
    "    notes_piano = []\n",
    "    metadata_piano = {\n",
    "        \"note_count\": 0,\n",
    "        \"chord_count\": 0,\n",
    "        \"rest\": 0,\n",
    "        \"else_count\": 0\n",
    "    }\n",
    "    else_arr = []\n",
    "\n",
    "#     midi_sample = converter.parse(file)\n",
    "    instruments = instrument.partitionByInstrument(midi_sample)\n",
    "\n",
    "    for part in instruments.parts:\n",
    "        # print(str(part))                          #show Piano Templat\n",
    "\n",
    "        if 'Piano' in str(part):\n",
    "\n",
    "            notes_to_parse = part.recurse()\n",
    "            print(len(notes_to_parse))            #show Piano Template len (7)\n",
    "            print('m')\n",
    "\n",
    "            for element in notes_to_parse:\n",
    "                if isinstance(element, note.Note):\n",
    "                    if str(element.duration.type) == 'complex':\n",
    "                        notes_piano.append('n_'+str(element.pitch)+'_'+str(element.duration.components[0].type))\n",
    "                    else:\n",
    "                        notes_piano.append('n_'+str(element.pitch)+'_'+str(element.duration.type))\n",
    "                    metadata_piano[\"note_count\"] += 1\n",
    "\n",
    "                elif isinstance(element, chord.Chord):\n",
    "                    notes_piano.append('.'.join(str(n) for n in element.normalOrder))\n",
    "                    metadata_piano[\"chord_count\"] += 1\n",
    "\n",
    "                elif isinstance(element, note.Rest):\n",
    "                    if str(element.duration.type) == 'complex':\n",
    "                        notes_piano.append('r_' + str(element.duration.components[0].type))\n",
    "                    else:\n",
    "                        notes_piano.append('r_'+str(element.duration.type))\n",
    "                    metadata_piano[\"rest\"] += 1\n",
    "                else:\n",
    "                    metadata_piano[\"else_count\"] += 1\n",
    "                    else_arr.append(element)\n",
    "\n",
    "    print('p')\n",
    "    return notes_piano, metadata_piano, else_arr"
   ]
  },
  {
   "cell_type": "code",
   "execution_count": null,
   "id": "bfa7b282",
   "metadata": {},
   "outputs": [],
   "source": []
  },
  {
   "cell_type": "code",
   "execution_count": 3,
   "id": "2cd3aec9",
   "metadata": {},
   "outputs": [],
   "source": [
    "def mapping(notes):\n",
    "    sequence_length = 10        #100\n",
    "\n",
    "    pitchnames = sorted(set(item for item in notes))\n",
    "    note_to_int = dict((note_var, number) for number, note_var in enumerate(pitchnames))\n",
    "\n",
    "    nn_input = []\n",
    "    nn_output = []\n",
    "\n",
    "    # create input sequences and the corresponding outputs\n",
    "    for i in range(0, len(notes) - sequence_length, 1):\n",
    "        sequence_in = notes[i:i + sequence_length]\n",
    "        sequence_out = notes[i + sequence_length]\n",
    "\n",
    "        nn_input.append([note_to_int[char] for char in sequence_in])\n",
    "        nn_output.append(note_to_int[sequence_out])\n",
    "    n_patterns = len(nn_input)\n",
    "\n",
    "    # # reshape the input into a format compatible with LSTM layers\n",
    "    nn_input = np.reshape(nn_input, (n_patterns, sequence_length, 1))\n",
    "    # # normalize input\n",
    "    nn_input = nn_input / float(n_patterns)\n",
    "\n",
    "    nn_output = np_utils.to_categorical(nn_output)\n",
    "\n",
    "    return nn_input, nn_output, note_to_int, pitchnames\n"
   ]
  },
  {
   "cell_type": "code",
   "execution_count": null,
   "id": "f9f05888",
   "metadata": {},
   "outputs": [],
   "source": []
  },
  {
   "cell_type": "code",
   "execution_count": 4,
   "id": "f62b813d",
   "metadata": {},
   "outputs": [],
   "source": [
    "def save_midi_file(output, mapping_keys):\n",
    "\n",
    "    # n = note.Note(str(element.pitches).split(' ')[-1][:-3], type=element.duration.type)\n",
    "    # s.append(n)\n",
    "    # s.show('text')print('text')\n",
    "\n",
    "    unmapped_from_int = []\n",
    "    converted = []\n",
    "\n",
    "   # unmapping notes, chores and rests from output integers\n",
    "    for element in output:\n",
    "        index = np.where(element)[0][0]\n",
    "        for key in mapping_keys:\n",
    "            if int(mapping_keys[key]) == index:\n",
    "                unmapped_from_int.append(key)\n",
    "\n",
    "    # creating note, chores and rest objects\n",
    "    for element in unmapped_from_int:\n",
    "        if '.' in element:                          #chors\n",
    "            converted.append(chord.Chord(element))\n",
    "        elif 'n_' in element:                       #note\n",
    "            element = element[2:]\n",
    "            note_ = note.Note(element.split('_')[0])        #creating note\n",
    "            note_.duration.type = element.split('_')[1]     #adding duration type\n",
    "            converted.append(note_)                         #appending array\n",
    "\n",
    "        elif 'r_' in element:                       #rest\n",
    "            element = element[2:]\n",
    "            # rest = note.Rest()\n",
    "            # rest.duration.quarterLength = 2.0\n",
    "            # converted.append(rest)\n",
    "            converted.append(note.Rest(type=element))\n",
    "\n",
    "    print(converted)\n",
    "\n",
    "    try:\n",
    "        midi_stream = stream.Stream()\n",
    "        midi_stream.append(converted)\n",
    "        midi_stream.write('midi', fp='midi_samples\\\\outputs\\\\test_output.mid')\n",
    "        print('created new MIDI file')\n",
    "    except:\n",
    "        print('save_midi_file ERROR')"
   ]
  },
  {
   "cell_type": "code",
   "execution_count": null,
   "id": "133012db",
   "metadata": {},
   "outputs": [],
   "source": []
  },
  {
   "cell_type": "code",
   "execution_count": null,
   "id": "2e610256",
   "metadata": {},
   "outputs": [],
   "source": []
  },
  {
   "cell_type": "code",
   "execution_count": 5,
   "id": "63a7f4d9",
   "metadata": {},
   "outputs": [
    {
     "data": {
      "text/html": [
       "\n",
       "                <div id='midiPlayerDiv517'></div>\n",
       "                <link rel=\"stylesheet\" href=\"//cuthbertLab.github.io/music21j/css/m21.css\"\n",
       "                    type=\"text/css\" />\n",
       "                <script>\n",
       "                require.config({\n",
       "                    paths: {'music21': '//cuthbertLab.github.io/music21j/src/music21'}\n",
       "                });\n",
       "                require(['music21'], function() {\n",
       "                               mp = new music21.miditools.MidiPlayer();\n",
       "                               mp.addPlayer('#midiPlayerDiv517');\n",
       "                               mp.base64Load('data:audio/midi;base64,TVRoZAAAAAYAAQACBABNVHJrAAAAGgD/UQMHCuIA/1kCAQAA/1gEBAIYCIgA/y8ATVRyawAAASUA/wMKUmlnaHQgSGFuZADAAADgAEAAwACIAJBMboYAgEwAggCQTG6GAIBMAIIAkExuigCATACCAJBKboQAgEoAAJBMboQAgEwAAJBPbopVgE8AhSuQT26EAIBPAACQUW6EAIBRAACQT26EAIBPAACQU26GAIBTAIIAkFNuhgCAUwCCAJBTboQAgFMAAJBRboQAgFEAAJBPboQAgE8AAJBRbogAgFEAAJBTbpoAgFMAggCQUW6KAIBRAIIAkE9uhACATwAAkFFuhACAUQAAkFNuigCAUwCCAJBPboQAgE8AAJBMboQAgEwAAJBMbo4AgEwAggCQSm6GAIBKAIIAkE9uhACATwAAkExuhACATAAAkEpuhACASgAAkExuqgCATACIAP8vAA==');\n",
       "                        });\n",
       "                </script>"
      ],
      "text/plain": [
       "<IPython.core.display.HTML object>"
      ]
     },
     "metadata": {},
     "output_type": "display_data"
    }
   ],
   "source": [
    "midi_file = converter.parse('midi_samples\\\\cosmo-27notes.mid')\n",
    "midi_file.show('midi')"
   ]
  },
  {
   "cell_type": "code",
   "execution_count": null,
   "id": "a4ad26f8",
   "metadata": {},
   "outputs": [],
   "source": []
  },
  {
   "cell_type": "code",
   "execution_count": 6,
   "id": "ee237cb1",
   "metadata": {},
   "outputs": [
    {
     "name": "stdout",
     "output_type": "stream",
     "text": [
      "47\n",
      "m\n",
      "p\n",
      "main\n",
      "['n_E5_eighth', 'r_16th', 'n_E5_eighth', 'r_16th', 'n_E5_quarter', 'r_16th', 'n_D5_eighth', 'n_E5_eighth', 'n_G5_half', 'r_quarter', 'n_G5_eighth', 'n_A5_eighth', 'n_G5_eighth', 'n_B5_eighth', 'r_16th', 'n_B5_eighth', 'r_16th', 'n_B5_eighth', 'n_A5_eighth', 'n_G5_eighth', 'n_A5_eighth', 'n_A5_eighth', 'n_B5_half', 'r_16th', 'n_A5_quarter', 'r_16th', 'n_G5_eighth', 'n_A5_eighth', 'n_B5_quarter', 'r_16th', 'n_G5_eighth', 'n_E5_eighth', 'n_E5_quarter', 'r_16th', 'n_D5_eighth', 'r_16th', 'n_G5_eighth', 'n_E5_eighth', 'n_D5_eighth', 'n_E5_half', 'n_E5_half', 'r_quarter']\n",
      "{'note_count': 30, 'chord_count': 0, 'rest': 12, 'else_count': 5}\n",
      "koniec mojho\n",
      "[<music21.note.Note G>, <music21.note.Note A>, <music21.note.Note G>, <music21.note.Note B>, <music21.note.Rest 16th>, <music21.note.Note B>, <music21.note.Rest 16th>, <music21.note.Note B>, <music21.note.Note A>, <music21.note.Note G>, <music21.note.Note A>, <music21.note.Note A>, <music21.note.Note B>, <music21.note.Rest 16th>, <music21.note.Note A>, <music21.note.Rest 16th>, <music21.note.Note G>, <music21.note.Note A>, <music21.note.Note B>, <music21.note.Rest 16th>, <music21.note.Note G>, <music21.note.Note E>, <music21.note.Note E>, <music21.note.Rest 16th>, <music21.note.Note D>, <music21.note.Rest 16th>, <music21.note.Note G>, <music21.note.Note E>, <music21.note.Note D>, <music21.note.Note E>, <music21.note.Note E>, <music21.note.Rest quarter>]\n",
      "created new MIDI file\n"
     ]
    }
   ],
   "source": [
    "\n",
    "notes_and_chords, metadata_p, else_array = parse_midi_file(midi_file)\n",
    "\n",
    "print('main')\n",
    "print(notes_and_chords)\n",
    "print(metadata_p)\n",
    "print('koniec mojho')\n",
    "\n",
    "lstm_input, lstm_output, notes_to_int, pitch_names = mapping(notes_and_chords)\n",
    "\n",
    "save_midi_file(lstm_output, notes_to_int)"
   ]
  },
  {
   "cell_type": "code",
   "execution_count": null,
   "id": "ad5b5a19",
   "metadata": {},
   "outputs": [],
   "source": []
  },
  {
   "cell_type": "code",
   "execution_count": 7,
   "id": "44b537f8",
   "metadata": {},
   "outputs": [
    {
     "data": {
      "text/html": [
       "\n",
       "                <div id='midiPlayerDiv1408'></div>\n",
       "                <link rel=\"stylesheet\" href=\"//cuthbertLab.github.io/music21j/css/m21.css\"\n",
       "                    type=\"text/css\" />\n",
       "                <script>\n",
       "                require.config({\n",
       "                    paths: {'music21': '//cuthbertLab.github.io/music21j/src/music21'}\n",
       "                });\n",
       "                require(['music21'], function() {\n",
       "                               mp = new music21.miditools.MidiPlayer();\n",
       "                               mp.addPlayer('#midiPlayerDiv1408');\n",
       "                               mp.base64Load('data:audio/midi;base64,TVRoZAAAAAYAAQACBABNVHJrAAAAFAD/UQMHoSAA/1gEBAIYCIgA/y8ATVRyawAAAPAA/wMAAOAAQADAAIgAkE9ahACATwAAkFFahACAUQAAkE9ahACATwAAkFNahACAUwCCAJBTWoQAgFMAggCQU1qEAIBTAACQUVqEAIBRAACQT1qEAIBPAACQUVqEAIBRAACQUVqEAIBRAACQU1qQAIBTAIIAkFFaiACAUQCCAJBPWoQAgE8AAJBRWoQAgFEAAJBTWogAgFMAggCQT1qEAIBPAACQTFqEAIBMAACQTFqIAIBMAIIAkEpahACASgCCAJBPWoQAgE8AAJBMWoQAgEwAAJBKWoQAgEoAAJBMWpAAgEwAAJBMWpAAgEwAiAD/LwA=');\n",
       "                        });\n",
       "                </script>"
      ],
      "text/plain": [
       "<IPython.core.display.HTML object>"
      ]
     },
     "metadata": {},
     "output_type": "display_data"
    }
   ],
   "source": [
    "new_midi_file = converter.parse('midi_samples\\\\outputs\\\\test_output.mid')\n",
    "new_midi_file.show('midi')"
   ]
  },
  {
   "cell_type": "code",
   "execution_count": null,
   "id": "a007fba3",
   "metadata": {},
   "outputs": [],
   "source": []
  },
  {
   "cell_type": "code",
   "execution_count": 32,
   "id": "bde518a1",
   "metadata": {},
   "outputs": [
    {
     "name": "stdout",
     "output_type": "stream",
     "text": [
      "<music21.chord.Chord E5 A5 D3 A3 B-3 E4>\n",
      "[9, 10, 2, 4]\n",
      "<music21.chord.Chord A B- D E>\n"
     ]
    },
    {
     "data": {
      "text/html": [
       "\n",
       "                <div id='midiPlayerDiv1603'></div>\n",
       "                <link rel=\"stylesheet\" href=\"//cuthbertLab.github.io/music21j/css/m21.css\"\n",
       "                    type=\"text/css\" />\n",
       "                <script>\n",
       "                require.config({\n",
       "                    paths: {'music21': '//cuthbertLab.github.io/music21j/src/music21'}\n",
       "                });\n",
       "                require(['music21'], function() {\n",
       "                               mp = new music21.miditools.MidiPlayer();\n",
       "                               mp.addPlayer('#midiPlayerDiv1603');\n",
       "                               mp.base64Load('data:audio/midi;base64,TVRoZAAAAAYAAQACBABNVHJrAAAAFAD/UQMHoSAA/1gEBAIYCIgA/y8ATVRyawAAAC8A/wMAAOAAQIgAkEVaAJBGWgCQPloAkEBaiACARQAAgEYAAIA+AACAQACIAP8vAA==');\n",
       "                        });\n",
       "                </script>"
      ],
      "text/plain": [
       "<IPython.core.display.HTML object>"
      ]
     },
     "metadata": {},
     "output_type": "display_data"
    }
   ],
   "source": [
    "c3 = chord.Chord(['E5', 'A5', 'D3', 'A3', 'B-3', 'E4'])\n",
    "c2 = c3.normalOrder\n",
    "print(c3)\n",
    "print(c2)\n",
    "\n",
    "notes = []\n",
    "for current_note in c2:\n",
    "\n",
    "    cn=int(current_note)\n",
    "    new_note = note.Note(cn)\n",
    "    new_note.storedInstrument = instrument.Piano()\n",
    "    notes.append(new_note)\n",
    "\n",
    "new_chord = chord.Chord(notes)\n",
    "new_chord.offset = 0\n",
    "print(new_chord)\n",
    "\n",
    "# c3.show('midi')\n",
    "new_chord.show('midi')"
   ]
  }
 ],
 "metadata": {
  "kernelspec": {
   "display_name": "Python 3 (ipykernel)",
   "language": "python",
   "name": "python3"
  },
  "language_info": {
   "codemirror_mode": {
    "name": "ipython",
    "version": 3
   },
   "file_extension": ".py",
   "mimetype": "text/x-python",
   "name": "python",
   "nbconvert_exporter": "python",
   "pygments_lexer": "ipython3",
   "version": "3.9.0"
  }
 },
 "nbformat": 4,
 "nbformat_minor": 5
}
